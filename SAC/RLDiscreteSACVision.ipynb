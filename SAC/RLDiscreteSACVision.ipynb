{
  "cells": [
    {
      "cell_type": "code",
      "execution_count": null,
      "metadata": {
        "id": "-5v1fPXJj629"
      },
      "outputs": [],
      "source": [
        "%%capture\n",
        "!pip install swig\n",
        "!pip install gymnasium\n",
        "!pip install gym[box2d]"
      ]
    },
    {
      "cell_type": "code",
      "execution_count": null,
      "metadata": {
        "id": "hDVrKizKILTk"
      },
      "outputs": [],
      "source": [
        "# Define environment for RL agent and for evaluation episodes\n",
        "import gymnasium as gym\n",
        "\n",
        "env = gym.make('CarRacing-v2', continuous = False, render_mode = \"rgb_array\")\n",
        "eval_env = gym.make('CarRacing-v2', continuous = False, render_mode = \"rgb_array\")"
      ]
    },
    {
      "cell_type": "code",
      "execution_count": null,
      "metadata": {
        "id": "29p0xLDHoTLZ"
      },
      "outputs": [],
      "source": [
        "import torch\n",
        "import torch.nn as nn\n",
        "import collections\n",
        "import copy\n",
        "import tqdm\n",
        "import random\n",
        "import math\n",
        "import numpy as np\n",
        "from PIL import Image\n",
        "\n",
        "# Environment constants\n",
        "INPUT_DIM = 96\n",
        "ACTIONS = 5\n",
        "EXPERIENCE_MEM = int(5e4)\n",
        "\n",
        "# Model architecture\n",
        "policy_conv_sz = [(1, 8, 8, 4), (8, 32, 4, 2)]\n",
        "policy_linear_sz = [(10 * 10 * 32, 128), (128, ACTIONS)]\n",
        "Q_conv_sz = [(1, 8, 8, 4), (8, 32, 4, 2)]\n",
        "Q_linear_sz = [(10 * 10 * 32, 128), (128, ACTIONS)]\n",
        "\n",
        "# RL hyper-parameters\n",
        "CYCLES = 35000\n",
        "EXPLORE_CYCLES = 10\n",
        "RANDOM_EXPLORE_CYCLES = 5000\n",
        "UPDATE_CYCLES = 1\n",
        "EVAL_FREQ = 500\n",
        "BATCH_SZ = 128\n",
        "GAMMA = 0.99\n",
        "TAU = 0.02\n",
        "GOAL_ENTROPY = -ACTIONS\n",
        "\n",
        "device = \"cuda\" if torch.cuda.is_available() else \"cpu\""
      ]
    },
    {
      "cell_type": "code",
      "execution_count": null,
      "metadata": {
        "id": "g-IR4uPzbQ6f"
      },
      "outputs": [],
      "source": [
        "def gs(o):\n",
        "    if o is None:\n",
        "        return None\n",
        "    return (o[:, :, 0] * 0.299 + o[:, :, 1] * 0.587 + o[:, :, 2] * 0.114 - 127.5) / 255 # Grayscale and normalize RGB image inputs"
      ]
    },
    {
      "cell_type": "code",
      "execution_count": null,
      "metadata": {
        "id": "RmsCr0bQR-Y2"
      },
      "outputs": [],
      "source": [
        "def layer_init(m):\n",
        "    if type(m) is nn.Linear or type(m) is nn.Conv2d:\n",
        "        nn.init.kaiming_normal_(m.weight)\n",
        "        if m.bias is not None:\n",
        "            torch.nn.init.zeros_(m.bias)"
      ]
    },
    {
      "cell_type": "code",
      "execution_count": null,
      "metadata": {
        "id": "gSWRYpohogta"
      },
      "outputs": [],
      "source": [
        "# ConvNet used for policy and Q-value functions\n",
        "class ConvNet(nn.Module):\n",
        "    def __init__(self, conv_sz, model_sz, act_fn):\n",
        "        super().__init__()\n",
        "        self.conv = nn.Sequential(\n",
        "            *[nn.Conv2d(w, x, y, z) if i % 2 == 0 else nn.ReLU() for w, x, y, z in conv_sz for i in range(2)]\n",
        "        ).apply(layer_init)\n",
        "        self.flatten = nn.Flatten()\n",
        "        self.lin = nn.Sequential(\n",
        "            *[nn.Linear(x, y) if i % 2 == 0 else nn.ReLU() for x, y in model_sz for i in range(2)]\n",
        "        ).apply(layer_init)\n",
        "        if act_fn is None:\n",
        "            self.lin = self.lin[:-1]\n",
        "        else:\n",
        "            self.lin[-1] = act_fn\n",
        "\n",
        "    def forward(self, inp):\n",
        "        batch_sz = inp.shape[0]\n",
        "        res = self.conv(inp)\n",
        "        res = self.flatten(res)\n",
        "        return self.lin(res)"
      ]
    },
    {
      "cell_type": "code",
      "execution_count": null,
      "metadata": {
        "id": "vdpHIXi7IR6v"
      },
      "outputs": [],
      "source": [
        "# Define memory for experience learning\n",
        "Experience = collections.namedtuple('Experience', ('cur_state', 'action', 'reward', 'future_state'))\n",
        "memory = collections.deque(maxlen = EXPERIENCE_MEM)"
      ]
    },
    {
      "cell_type": "code",
      "execution_count": null,
      "metadata": {
        "id": "aQwbA7Nhrtgt"
      },
      "outputs": [],
      "source": [
        "policy = ConvNet(policy_conv_sz, policy_linear_sz, nn.Softmax(dim = -1)).to(device)\n",
        "Q1 = ConvNet(Q_conv_sz, Q_linear_sz, None).to(device)\n",
        "Q2 = ConvNet(Q_conv_sz, Q_linear_sz, None).to(device)\n",
        "Q1targ = copy.deepcopy(Q1)\n",
        "Q2targ = copy.deepcopy(Q2)\n",
        "policy_opt = torch.optim.AdamW(policy.parameters(), lr = 3e-4, eps = 1e-4)\n",
        "Q_opt = torch.optim.AdamW(list(Q1.parameters()) + list(Q2.parameters()), lr = 3e-4, eps = 1e-4)\n",
        "log_alpha = torch.tensor(0.0, requires_grad = True)\n",
        "log_alpha_opt = torch.optim.AdamW([log_alpha], lr = 1e-2, eps = 1e-4)"
      ]
    },
    {
      "cell_type": "code",
      "execution_count": null,
      "metadata": {
        "colab": {
          "base_uri": "https://localhost:8080/"
        },
        "id": "cEbeXtVGK50E",
        "outputId": "d9d557ba-d4e5-4ee4-b91e-5ac95daf8a32"
      },
      "outputs": [
        {
          "name": "stdout",
          "output_type": "stream",
          "text": [
            "Mounted at /content/gdrive\n"
          ]
        }
      ],
      "source": [
        "# Load pretrained policyu\n",
        "load_policy = True\n",
        "\n",
        "if load_policy:\n",
        "    from google.colab import drive\n",
        "    drive.mount('/content/gdrive')\n",
        "    policy.load_state_dict(torch.load(\"/content/gdrive/My Drive/RL_SACVision/policy.pth\"))\n"
      ]
    },
    {
      "cell_type": "code",
      "execution_count": null,
      "metadata": {
        "id": "dOnmd6PR3F8c"
      },
      "outputs": [],
      "source": [
        "# Safe logarithm avoiding log(0) problems\n",
        "def log(inp):\n",
        "    return torch.log(inp + (inp == 0.0) * 1e-8)"
      ]
    },
    {
      "cell_type": "code",
      "execution_count": null,
      "metadata": {
        "colab": {
          "base_uri": "https://localhost:8080/"
        },
        "id": "NUaVEdb_zDIg",
        "outputId": "81769cbf-992e-4d61-e42b-6c4d91d8bd63"
      },
      "outputs": [
        {
          "name": "stderr",
          "output_type": "stream",
          "text": [
            "  0%|          | 1/35000 [00:04<44:20:24,  4.56s/it]"
          ]
        },
        {
          "name": "stdout",
          "output_type": "stream",
          "text": [
            "Current Evaluation Reward: -62.20000000000047\n"
          ]
        },
        {
          "name": "stderr",
          "output_type": "stream",
          "text": [
            "  1%|▏         | 500/35000 [01:30<1:25:32,  6.72it/s]"
          ]
        },
        {
          "name": "stdout",
          "output_type": "stream",
          "text": [
            "Current Evaluation Reward: -94.47142857142885\n"
          ]
        },
        {
          "name": "stderr",
          "output_type": "stream",
          "text": [
            "  3%|▎         | 1001/35000 [03:12<17:36:20,  1.86s/it]"
          ]
        },
        {
          "name": "stdout",
          "output_type": "stream",
          "text": [
            "Current Evaluation Reward: -74.76802973977752\n"
          ]
        },
        {
          "name": "stderr",
          "output_type": "stream",
          "text": [
            "  4%|▍         | 1501/35000 [04:53<39:21:57,  4.23s/it]"
          ]
        },
        {
          "name": "stdout",
          "output_type": "stream",
          "text": [
            "Current Evaluation Reward: -86.11111111111046\n"
          ]
        },
        {
          "name": "stderr",
          "output_type": "stream",
          "text": [
            "  6%|▌         | 2001/35000 [06:33<35:45:47,  3.90s/it]"
          ]
        },
        {
          "name": "stdout",
          "output_type": "stream",
          "text": [
            "Current Evaluation Reward: -81.75182481751783\n"
          ]
        },
        {
          "name": "stderr",
          "output_type": "stream",
          "text": [
            "  7%|▋         | 2501/35000 [08:09<21:52:36,  2.42s/it]"
          ]
        },
        {
          "name": "stdout",
          "output_type": "stream",
          "text": [
            "Current Evaluation Reward: -117.32820512820521\n"
          ]
        },
        {
          "name": "stderr",
          "output_type": "stream",
          "text": [
            "  9%|▊         | 3001/35000 [09:57<44:25:42,  5.00s/it]"
          ]
        },
        {
          "name": "stdout",
          "output_type": "stream",
          "text": [
            "Current Evaluation Reward: -38.4615384615392\n"
          ]
        },
        {
          "name": "stderr",
          "output_type": "stream",
          "text": [
            " 10%|█         | 3501/35000 [11:37<34:47:25,  3.98s/it]"
          ]
        },
        {
          "name": "stdout",
          "output_type": "stream",
          "text": [
            "Current Evaluation Reward: -12.587412587413441\n"
          ]
        },
        {
          "name": "stderr",
          "output_type": "stream",
          "text": [
            " 11%|█▏        | 4001/35000 [13:18<31:29:33,  3.66s/it]"
          ]
        },
        {
          "name": "stdout",
          "output_type": "stream",
          "text": [
            "Current Evaluation Reward: -33.554817275748285\n"
          ]
        },
        {
          "name": "stderr",
          "output_type": "stream",
          "text": [
            " 13%|█▎        | 4501/35000 [14:48<11:04:11,  1.31s/it]"
          ]
        },
        {
          "name": "stdout",
          "output_type": "stream",
          "text": [
            "Current Evaluation Reward: 18.836170212766945\n"
          ]
        },
        {
          "name": "stderr",
          "output_type": "stream",
          "text": [
            " 14%|█▍        | 5001/35000 [16:27<32:28:25,  3.90s/it]"
          ]
        },
        {
          "name": "stdout",
          "output_type": "stream",
          "text": [
            "Current Evaluation Reward: 109.15032679738584\n"
          ]
        },
        {
          "name": "stderr",
          "output_type": "stream",
          "text": [
            " 16%|█▌        | 5501/35000 [18:08<36:14:04,  4.42s/it]"
          ]
        },
        {
          "name": "stdout",
          "output_type": "stream",
          "text": [
            "Current Evaluation Reward: 206.4516129032292\n"
          ]
        },
        {
          "name": "stderr",
          "output_type": "stream",
          "text": [
            " 17%|█▋        | 6001/35000 [19:48<33:11:25,  4.12s/it]"
          ]
        },
        {
          "name": "stdout",
          "output_type": "stream",
          "text": [
            "Current Evaluation Reward: 409.55414012737424\n"
          ]
        },
        {
          "name": "stderr",
          "output_type": "stream",
          "text": [
            " 19%|█▊        | 6501/35000 [21:29<31:43:12,  4.01s/it]"
          ]
        },
        {
          "name": "stdout",
          "output_type": "stream",
          "text": [
            "Current Evaluation Reward: 422.3880597014832\n"
          ]
        },
        {
          "name": "stderr",
          "output_type": "stream",
          "text": [
            " 20%|██        | 7001/35000 [23:11<34:32:10,  4.44s/it]"
          ]
        },
        {
          "name": "stdout",
          "output_type": "stream",
          "text": [
            "Current Evaluation Reward: 220.13201320132436\n"
          ]
        },
        {
          "name": "stderr",
          "output_type": "stream",
          "text": [
            " 21%|██▏       | 7501/35000 [24:51<28:31:42,  3.73s/it]"
          ]
        },
        {
          "name": "stdout",
          "output_type": "stream",
          "text": [
            "Current Evaluation Reward: -39.51612903225877\n"
          ]
        },
        {
          "name": "stderr",
          "output_type": "stream",
          "text": [
            " 23%|██▎       | 8001/35000 [26:30<29:44:41,  3.97s/it]"
          ]
        },
        {
          "name": "stdout",
          "output_type": "stream",
          "text": [
            "Current Evaluation Reward: 61.29032258064643\n"
          ]
        },
        {
          "name": "stderr",
          "output_type": "stream",
          "text": [
            " 24%|██▍       | 8501/35000 [28:12<32:15:25,  4.38s/it]"
          ]
        },
        {
          "name": "stdout",
          "output_type": "stream",
          "text": [
            "Current Evaluation Reward: -82.5783972125431\n"
          ]
        },
        {
          "name": "stderr",
          "output_type": "stream",
          "text": [
            " 26%|██▌       | 9001/35000 [29:50<28:15:30,  3.91s/it]"
          ]
        },
        {
          "name": "stdout",
          "output_type": "stream",
          "text": [
            "Current Evaluation Reward: 758.6956521739016\n"
          ]
        },
        {
          "name": "stderr",
          "output_type": "stream",
          "text": [
            " 27%|██▋       | 9500/35000 [31:18<1:10:35,  6.02it/s]"
          ]
        },
        {
          "name": "stdout",
          "output_type": "stream",
          "text": [
            "Current Evaluation Reward: 577.8115501519661\n"
          ]
        },
        {
          "name": "stderr",
          "output_type": "stream",
          "text": [
            " 29%|██▊       | 10001/35000 [33:05<25:55:44,  3.73s/it]"
          ]
        },
        {
          "name": "stdout",
          "output_type": "stream",
          "text": [
            "Current Evaluation Reward: 316.66666666665213\n"
          ]
        },
        {
          "name": "stderr",
          "output_type": "stream",
          "text": [
            " 30%|███       | 10500/35000 [34:27<1:01:47,  6.61it/s]"
          ]
        },
        {
          "name": "stdout",
          "output_type": "stream",
          "text": [
            "Current Evaluation Reward: 157.05329153605493\n"
          ]
        },
        {
          "name": "stderr",
          "output_type": "stream",
          "text": [
            " 31%|███▏      | 11001/35000 [36:22<27:19:01,  4.10s/it]"
          ]
        },
        {
          "name": "stdout",
          "output_type": "stream",
          "text": [
            "Current Evaluation Reward: 498.5915492957603\n"
          ]
        },
        {
          "name": "stderr",
          "output_type": "stream",
          "text": [
            " 33%|███▎      | 11501/35000 [38:00<25:46:52,  3.95s/it]"
          ]
        },
        {
          "name": "stdout",
          "output_type": "stream",
          "text": [
            "Current Evaluation Reward: 722.5806451612829\n"
          ]
        },
        {
          "name": "stderr",
          "output_type": "stream",
          "text": [
            " 34%|███▍      | 12001/35000 [39:40<25:25:54,  3.98s/it]"
          ]
        },
        {
          "name": "stdout",
          "output_type": "stream",
          "text": [
            "Current Evaluation Reward: 805.4054054053868\n"
          ]
        },
        {
          "name": "stderr",
          "output_type": "stream",
          "text": [
            " 36%|███▌      | 12501/35000 [41:20<25:20:17,  4.05s/it]"
          ]
        },
        {
          "name": "stdout",
          "output_type": "stream",
          "text": [
            "Current Evaluation Reward: 244.9367088607501\n"
          ]
        },
        {
          "name": "stderr",
          "output_type": "stream",
          "text": [
            " 37%|███▋      | 13001/35000 [43:02<25:06:47,  4.11s/it]"
          ]
        },
        {
          "name": "stdout",
          "output_type": "stream",
          "text": [
            "Current Evaluation Reward: 534.8122866894042\n"
          ]
        },
        {
          "name": "stderr",
          "output_type": "stream",
          "text": [
            " 39%|███▊      | 13501/35000 [44:43<23:30:38,  3.94s/it]"
          ]
        },
        {
          "name": "stdout",
          "output_type": "stream",
          "text": [
            "Current Evaluation Reward: 780.5970149253568\n"
          ]
        },
        {
          "name": "stderr",
          "output_type": "stream",
          "text": [
            " 40%|████      | 14001/35000 [46:25<25:07:40,  4.31s/it]"
          ]
        },
        {
          "name": "stdout",
          "output_type": "stream",
          "text": [
            "Current Evaluation Reward: 862.068965517225\n"
          ]
        },
        {
          "name": "stderr",
          "output_type": "stream",
          "text": [
            " 41%|████▏     | 14501/35000 [48:06<22:53:10,  4.02s/it]"
          ]
        },
        {
          "name": "stdout",
          "output_type": "stream",
          "text": [
            "Current Evaluation Reward: 857.7464788732216\n"
          ]
        },
        {
          "name": "stderr",
          "output_type": "stream",
          "text": [
            " 43%|████▎     | 15001/35000 [49:49<22:13:07,  4.00s/it]"
          ]
        },
        {
          "name": "stdout",
          "output_type": "stream",
          "text": [
            "Current Evaluation Reward: 396.73202614377783\n"
          ]
        },
        {
          "name": "stderr",
          "output_type": "stream",
          "text": [
            " 44%|████▍     | 15501/35000 [51:30<22:26:02,  4.14s/it]"
          ]
        },
        {
          "name": "stdout",
          "output_type": "stream",
          "text": [
            "Current Evaluation Reward: 738.4279475982452\n"
          ]
        },
        {
          "name": "stderr",
          "output_type": "stream",
          "text": [
            " 46%|████▌     | 16001/35000 [53:12<22:01:47,  4.17s/it]"
          ]
        },
        {
          "name": "stdout",
          "output_type": "stream",
          "text": [
            "Current Evaluation Reward: 806.906906906891\n"
          ]
        },
        {
          "name": "stderr",
          "output_type": "stream",
          "text": [
            " 47%|████▋     | 16501/35000 [54:54<20:52:06,  4.06s/it]"
          ]
        },
        {
          "name": "stdout",
          "output_type": "stream",
          "text": [
            "Current Evaluation Reward: 539.1752577319455\n"
          ]
        },
        {
          "name": "stderr",
          "output_type": "stream",
          "text": [
            " 49%|████▊     | 17001/35000 [56:38<22:55:28,  4.59s/it]"
          ]
        },
        {
          "name": "stdout",
          "output_type": "stream",
          "text": [
            "Current Evaluation Reward: 390.74074074072905\n"
          ]
        },
        {
          "name": "stderr",
          "output_type": "stream",
          "text": [
            " 50%|█████     | 17501/35000 [58:21<22:47:03,  4.69s/it]"
          ]
        },
        {
          "name": "stdout",
          "output_type": "stream",
          "text": [
            "Current Evaluation Reward: 274.9999999999874\n"
          ]
        },
        {
          "name": "stderr",
          "output_type": "stream",
          "text": [
            " 51%|█████▏    | 18001/35000 [1:00:04<19:48:36,  4.20s/it]"
          ]
        },
        {
          "name": "stdout",
          "output_type": "stream",
          "text": [
            "Current Evaluation Reward: 875.2650176678287\n"
          ]
        },
        {
          "name": "stderr",
          "output_type": "stream",
          "text": [
            " 53%|█████▎    | 18501/35000 [1:01:47<19:07:15,  4.17s/it]"
          ]
        },
        {
          "name": "stdout",
          "output_type": "stream",
          "text": [
            "Current Evaluation Reward: 863.4551495016517\n"
          ]
        },
        {
          "name": "stderr",
          "output_type": "stream",
          "text": [
            " 54%|█████▍    | 19001/35000 [1:03:33<20:12:46,  4.55s/it]"
          ]
        },
        {
          "name": "stdout",
          "output_type": "stream",
          "text": [
            "Current Evaluation Reward: 183.28611898017422\n"
          ]
        },
        {
          "name": "stderr",
          "output_type": "stream",
          "text": [
            " 56%|█████▌    | 19501/35000 [1:05:15<17:21:00,  4.03s/it]"
          ]
        },
        {
          "name": "stdout",
          "output_type": "stream",
          "text": [
            "Current Evaluation Reward: 588.1028938906609\n"
          ]
        },
        {
          "name": "stderr",
          "output_type": "stream",
          "text": [
            " 57%|█████▋    | 20001/35000 [1:06:56<16:27:16,  3.95s/it]"
          ]
        },
        {
          "name": "stdout",
          "output_type": "stream",
          "text": [
            "Current Evaluation Reward: 860.7142857142692\n"
          ]
        },
        {
          "name": "stderr",
          "output_type": "stream",
          "text": [
            " 59%|█████▊    | 20501/35000 [1:08:38<17:03:51,  4.24s/it]"
          ]
        },
        {
          "name": "stdout",
          "output_type": "stream",
          "text": [
            "Current Evaluation Reward: 886.0627177700206\n"
          ]
        },
        {
          "name": "stderr",
          "output_type": "stream",
          "text": [
            " 60%|██████    | 21001/35000 [1:10:19<15:30:34,  3.99s/it]"
          ]
        },
        {
          "name": "stdout",
          "output_type": "stream",
          "text": [
            "Current Evaluation Reward: 863.0872483221307\n"
          ]
        },
        {
          "name": "stderr",
          "output_type": "stream",
          "text": [
            " 61%|██████▏   | 21501/35000 [1:12:00<14:49:24,  3.95s/it]"
          ]
        },
        {
          "name": "stdout",
          "output_type": "stream",
          "text": [
            "Current Evaluation Reward: 11.111111111112189\n"
          ]
        },
        {
          "name": "stderr",
          "output_type": "stream",
          "text": [
            " 63%|██████▎   | 22001/35000 [1:13:41<15:42:24,  4.35s/it]"
          ]
        },
        {
          "name": "stdout",
          "output_type": "stream",
          "text": [
            "Current Evaluation Reward: 890.0662251655534\n"
          ]
        },
        {
          "name": "stderr",
          "output_type": "stream",
          "text": [
            " 64%|██████▍   | 22501/35000 [1:15:23<14:05:44,  4.06s/it]"
          ]
        },
        {
          "name": "stdout",
          "output_type": "stream",
          "text": [
            "Current Evaluation Reward: 820.2898550724528\n"
          ]
        },
        {
          "name": "stderr",
          "output_type": "stream",
          "text": [
            " 66%|██████▌   | 23001/35000 [1:17:07<14:51:36,  4.46s/it]"
          ]
        },
        {
          "name": "stdout",
          "output_type": "stream",
          "text": [
            "Current Evaluation Reward: 725.6578947368278\n"
          ]
        },
        {
          "name": "stderr",
          "output_type": "stream",
          "text": [
            " 67%|██████▋   | 23501/35000 [1:18:51<13:22:25,  4.19s/it]"
          ]
        },
        {
          "name": "stdout",
          "output_type": "stream",
          "text": [
            "Current Evaluation Reward: 413.6186770427885\n"
          ]
        },
        {
          "name": "stderr",
          "output_type": "stream",
          "text": [
            " 69%|██████▊   | 24001/35000 [1:20:37<14:34:53,  4.77s/it]"
          ]
        },
        {
          "name": "stdout",
          "output_type": "stream",
          "text": [
            "Current Evaluation Reward: 404.823151125388\n"
          ]
        },
        {
          "name": "stderr",
          "output_type": "stream",
          "text": [
            " 70%|███████   | 24501/35000 [1:22:23<12:37:39,  4.33s/it]"
          ]
        },
        {
          "name": "stdout",
          "output_type": "stream",
          "text": [
            "Current Evaluation Reward: 306.24999999998766\n"
          ]
        },
        {
          "name": "stderr",
          "output_type": "stream",
          "text": [
            " 71%|███████▏  | 25001/35000 [1:24:09<11:59:25,  4.32s/it]"
          ]
        },
        {
          "name": "stdout",
          "output_type": "stream",
          "text": [
            "Current Evaluation Reward: 847.0588235294053\n"
          ]
        },
        {
          "name": "stderr",
          "output_type": "stream",
          "text": [
            " 73%|███████▎  | 25501/35000 [1:25:51<8:57:07,  3.39s/it]"
          ]
        },
        {
          "name": "stdout",
          "output_type": "stream",
          "text": [
            "Current Evaluation Reward: 922.6999999999888\n"
          ]
        },
        {
          "name": "stderr",
          "output_type": "stream",
          "text": [
            " 74%|███████▍  | 26001/35000 [1:27:34<10:15:33,  4.10s/it]"
          ]
        },
        {
          "name": "stdout",
          "output_type": "stream",
          "text": [
            "Current Evaluation Reward: 57.342657342661546\n"
          ]
        },
        {
          "name": "stderr",
          "output_type": "stream",
          "text": [
            " 76%|███████▌  | 26501/35000 [1:29:12<7:14:02,  3.06s/it]"
          ]
        },
        {
          "name": "stdout",
          "output_type": "stream",
          "text": [
            "Current Evaluation Reward: 919.5999999999868\n"
          ]
        },
        {
          "name": "stderr",
          "output_type": "stream",
          "text": [
            " 77%|███████▋  | 27001/35000 [1:30:56<9:46:50,  4.40s/it]"
          ]
        },
        {
          "name": "stdout",
          "output_type": "stream",
          "text": [
            "Current Evaluation Reward: 227.6353276353306\n"
          ]
        },
        {
          "name": "stderr",
          "output_type": "stream",
          "text": [
            " 79%|███████▊  | 27501/35000 [1:32:41<9:00:04,  4.32s/it]"
          ]
        },
        {
          "name": "stdout",
          "output_type": "stream",
          "text": [
            "Current Evaluation Reward: 363.94984326017584\n"
          ]
        },
        {
          "name": "stderr",
          "output_type": "stream",
          "text": [
            " 80%|████████  | 28001/35000 [1:34:24<7:58:03,  4.10s/it]"
          ]
        },
        {
          "name": "stdout",
          "output_type": "stream",
          "text": [
            "Current Evaluation Reward: 855.1724137930878\n"
          ]
        },
        {
          "name": "stderr",
          "output_type": "stream",
          "text": [
            " 81%|████████▏ | 28501/35000 [1:36:11<8:15:13,  4.57s/it]"
          ]
        },
        {
          "name": "stdout",
          "output_type": "stream",
          "text": [
            "Current Evaluation Reward: 697.2972972972821\n"
          ]
        },
        {
          "name": "stderr",
          "output_type": "stream",
          "text": [
            " 83%|████████▎ | 29000/35000 [1:37:41<17:32,  5.70it/s]"
          ]
        },
        {
          "name": "stdout",
          "output_type": "stream",
          "text": [
            "Current Evaluation Reward: 845.9459459459282\n"
          ]
        },
        {
          "name": "stderr",
          "output_type": "stream",
          "text": [
            " 84%|████████▍ | 29501/35000 [1:39:40<5:27:57,  3.58s/it]"
          ]
        },
        {
          "name": "stdout",
          "output_type": "stream",
          "text": [
            "Current Evaluation Reward: 912.39999999999\n"
          ]
        },
        {
          "name": "stderr",
          "output_type": "stream",
          "text": [
            " 86%|████████▌ | 30001/35000 [1:41:25<5:39:56,  4.08s/it]"
          ]
        },
        {
          "name": "stdout",
          "output_type": "stream",
          "text": [
            "Current Evaluation Reward: 565.5629139072731\n"
          ]
        },
        {
          "name": "stderr",
          "output_type": "stream",
          "text": [
            " 87%|████████▋ | 30501/35000 [1:43:12<5:44:34,  4.60s/it]"
          ]
        },
        {
          "name": "stdout",
          "output_type": "stream",
          "text": [
            "Current Evaluation Reward: 123.16384180791397\n"
          ]
        },
        {
          "name": "stderr",
          "output_type": "stream",
          "text": [
            " 89%|████████▊ | 31001/35000 [1:44:57<4:59:05,  4.49s/it]"
          ]
        },
        {
          "name": "stdout",
          "output_type": "stream",
          "text": [
            "Current Evaluation Reward: 808.8050314465246\n"
          ]
        },
        {
          "name": "stderr",
          "output_type": "stream",
          "text": [
            " 90%|█████████ | 31501/35000 [1:46:42<4:18:48,  4.44s/it]"
          ]
        },
        {
          "name": "stdout",
          "output_type": "stream",
          "text": [
            "Current Evaluation Reward: 370.41420118342165\n"
          ]
        },
        {
          "name": "stderr",
          "output_type": "stream",
          "text": [
            " 91%|█████████▏| 32001/35000 [1:48:26<3:21:16,  4.03s/it]"
          ]
        },
        {
          "name": "stdout",
          "output_type": "stream",
          "text": [
            "Current Evaluation Reward: 867.6258992805583\n"
          ]
        },
        {
          "name": "stderr",
          "output_type": "stream",
          "text": [
            " 93%|█████████▎| 32501/35000 [1:50:11<2:57:01,  4.25s/it]"
          ]
        },
        {
          "name": "stdout",
          "output_type": "stream",
          "text": [
            "Current Evaluation Reward: 875.9999999999866\n"
          ]
        },
        {
          "name": "stderr",
          "output_type": "stream",
          "text": [
            " 94%|█████████▍| 33001/35000 [1:51:54<2:18:08,  4.15s/it]"
          ]
        },
        {
          "name": "stdout",
          "output_type": "stream",
          "text": [
            "Current Evaluation Reward: 533.8028169013955\n"
          ]
        },
        {
          "name": "stderr",
          "output_type": "stream",
          "text": [
            " 96%|█████████▌| 33501/35000 [1:53:39<1:44:19,  4.18s/it]"
          ]
        },
        {
          "name": "stdout",
          "output_type": "stream",
          "text": [
            "Current Evaluation Reward: 804.4776119402842\n"
          ]
        },
        {
          "name": "stderr",
          "output_type": "stream",
          "text": [
            " 97%|█████████▋| 34000/35000 [1:55:09<02:56,  5.65it/s]"
          ]
        },
        {
          "name": "stdout",
          "output_type": "stream",
          "text": [
            "Current Evaluation Reward: 439.93610223640906\n"
          ]
        },
        {
          "name": "stderr",
          "output_type": "stream",
          "text": [
            " 99%|█████████▊| 34501/35000 [1:57:05<35:55,  4.32s/it]"
          ]
        },
        {
          "name": "stdout",
          "output_type": "stream",
          "text": [
            "Current Evaluation Reward: 838.6973180076533\n"
          ]
        },
        {
          "name": "stderr",
          "output_type": "stream",
          "text": [
            "100%|██████████| 35000/35000 [1:58:36<00:00,  4.92it/s]\n"
          ]
        }
      ],
      "source": [
        "total_explores = 0\n",
        "cur_epoch_steps = 0\n",
        "epoch_steps_graph = []\n",
        "Q1_loss_graph = []\n",
        "Q2_loss_graph = []\n",
        "policy_loss_graph = []\n",
        "alpha_loss_graph = []\n",
        "log_alpha_graph = []\n",
        "rewards_graph = []\n",
        "Q_norms = []\n",
        "state = None\n",
        "\n",
        "with tqdm.tqdm(total = CYCLES) as t:\n",
        "    for cyc_num in range(CYCLES):\n",
        "        if cyc_num % EVAL_FREQ == 0:\n",
        "            eval_state, _ = eval_env.reset()\n",
        "            eval_state = gs(eval_state)\n",
        "            eval_terminated = False\n",
        "            eval_truncated = False\n",
        "            total_reward = 0\n",
        "            while not (eval_terminated or eval_truncated):\n",
        "                eval_state, eval_reward, eval_terminated, eval_truncated, _ = eval_env.step(int(torch.argmax(policy(torch.tensor(eval_state, device=device, dtype = torch.float32).unsqueeze(dim = 0).unsqueeze(dim = 0)))))\n",
        "                eval_state = gs(eval_state)\n",
        "                total_reward += eval_reward\n",
        "            rewards_graph.append(total_reward)\n",
        "            print(f\"Current Evaluation Reward: {total_reward}\")\n",
        "        for j in range(EXPLORE_CYCLES):\n",
        "            if state is None or cur_epoch_steps > 100 * math.pow(1.0002, cyc_num):\n",
        "                epoch_steps_graph.append(cur_epoch_steps)\n",
        "                cur_epoch_steps = 0\n",
        "                state, _ = env.reset()\n",
        "\n",
        "            if total_explores < RANDOM_EXPLORE_CYCLES:\n",
        "                action = random.randint(0, ACTIONS - 1)\n",
        "            else:\n",
        "                probs = torch.distributions.Categorical(policy(torch.tensor(gs(state), device=device, dtype = torch.float32).unsqueeze(dim = 0).unsqueeze(dim = 0)))\n",
        "                action = int(probs.sample())\n",
        "            new_state, reward, terminated, truncated, _ = env.step(action)\n",
        "            if terminated or truncated:\n",
        "                new_state = None\n",
        "\n",
        "            if cur_epoch_steps != 0:\n",
        "              memory.append(Experience(gs(state), action, reward, gs(new_state)))\n",
        "            state = new_state\n",
        "\n",
        "            total_explores += 1\n",
        "            cur_epoch_steps += 1\n",
        "\n",
        "        if len(memory) > BATCH_SZ:\n",
        "            for j in range(UPDATE_CYCLES):\n",
        "                experiences = random.sample(memory, BATCH_SZ)\n",
        "                states = []\n",
        "                rewards = []\n",
        "                actions = []\n",
        "                future_states = []\n",
        "                future_states_not_none = []\n",
        "\n",
        "                for idx, i in enumerate(experiences):\n",
        "                    states.append(i.cur_state)\n",
        "                    rewards.append(i.reward)\n",
        "                    actions.append(i.action)\n",
        "                    if i.future_state is not None:\n",
        "                        future_states_not_none.append(idx)\n",
        "                        future_states.append(i.future_state)\n",
        "\n",
        "                states = np.array(states)\n",
        "                rewards = np.array(rewards)\n",
        "                future_states = np.array(future_states)\n",
        "\n",
        "                states = torch.tensor(states, device = device, dtype = torch.float32).unsqueeze(dim = 1)\n",
        "                rewards = torch.tensor(rewards, device = device)\n",
        "                future_states = torch.tensor(future_states, device = device, dtype = torch.float32).unsqueeze(dim = 1)\n",
        "\n",
        "                # Update Q1 and Q2\n",
        "                Q1.zero_grad(set_to_none = True)\n",
        "                Q2.zero_grad(set_to_none = True)\n",
        "                q1_pred = Q1(states)[torch.arange(len(actions)), actions]\n",
        "                q2_pred = Q2(states)[torch.arange(len(actions)), actions]\n",
        "                Q_norms.append(torch.norm(q1_pred).item())\n",
        "\n",
        "                V = torch.zeros_like(rewards, device=device, dtype = torch.float32)\n",
        "                V[future_states_not_none] = torch.sum(policy(future_states) * (torch.min(Q1targ(future_states), Q2targ(future_states)) - torch.exp(log_alpha) * log(policy(future_states))), dim = -1)\n",
        "                q_val_target = rewards + GAMMA * V\n",
        "                Q1loss = nn.functional.mse_loss(q1_pred, q_val_target.float().detach())\n",
        "                Q2loss = nn.functional.mse_loss(q2_pred, q_val_target.float().detach())\n",
        "                Qloss = Q1loss + Q2loss\n",
        "                Qloss.backward()\n",
        "                Q1_loss_graph.append(Q1loss.item())\n",
        "                Q2_loss_graph.append(Q2loss.item())\n",
        "                nn.utils.clip_grad_norm_(Q1.parameters(), 1)\n",
        "                nn.utils.clip_grad_norm_(Q2.parameters(), 1)\n",
        "                Q_opt.step()\n",
        "\n",
        "                # Precompute policy values for current state\n",
        "                probs = policy(states)\n",
        "                logprobs = log(probs)\n",
        "\n",
        "                # Update policy\n",
        "                policy.zero_grad(set_to_none = True)\n",
        "                policy_loss = torch.mean(torch.sum(probs * (torch.exp(log_alpha) * logprobs - torch.min(Q1(states), Q2(states)).detach()), dim = -1))\n",
        "                policy_loss.backward()\n",
        "                policy_loss_graph.append(policy_loss.item())\n",
        "                nn.utils.clip_grad_norm_(policy.parameters(), 1)\n",
        "                policy_opt.step()\n",
        "\n",
        "\n",
        "                # Update alpha\n",
        "                log_alpha_opt.zero_grad(set_to_none = True)\n",
        "                alpha_loss = torch.mean(probs.detach() * (-torch.exp(log_alpha) * (logprobs + GOAL_ENTROPY).detach()))\n",
        "                alpha_loss.backward()\n",
        "                alpha_loss_graph.append(alpha_loss.item())\n",
        "                log_alpha_opt.step()\n",
        "                log_alpha_graph.append(log_alpha.item())\n",
        "\n",
        "                Q1_state_dict = Q1.state_dict()\n",
        "                Q1targ_state_dict = Q1targ.state_dict()\n",
        "\n",
        "                for param, _ in Q1targ_state_dict.items():\n",
        "                    Q1targ_state_dict[param] = TAU * Q1_state_dict[param] + (1 - TAU) * Q1targ_state_dict[param]\n",
        "\n",
        "                Q1targ.load_state_dict(Q1targ_state_dict)\n",
        "\n",
        "                Q2_state_dict = Q2.state_dict()\n",
        "                Q2targ_state_dict = Q2targ.state_dict()\n",
        "\n",
        "                for param, _ in Q2targ_state_dict.items():\n",
        "                    Q2targ_state_dict[param] = TAU * Q2_state_dict[param] + (1 - TAU) * Q2targ_state_dict[param]\n",
        "\n",
        "                Q2targ.load_state_dict(Q2targ_state_dict)\n",
        "\n",
        "\n",
        "        t.update(1)"
      ]
    },
    {
      "cell_type": "code",
      "execution_count": null,
      "metadata": {
        "colab": {
          "base_uri": "https://localhost:8080/"
        },
        "id": "_JTbu7m6SKxy",
        "outputId": "93af65ff-a5a3-403e-e27a-1fb80e4dcd9f"
      },
      "outputs": [
        {
          "data": {
            "text/plain": [
              "[610.4310302734375,\n",
              " 611.9479370117188,\n",
              " 594.8429565429688,\n",
              " 603.3387451171875,\n",
              " 596.0006103515625,\n",
              " 610.2786865234375,\n",
              " 613.7220458984375,\n",
              " 577.61376953125,\n",
              " 618.301513671875,\n",
              " 627.982177734375]"
            ]
          },
          "execution_count": 45,
          "metadata": {},
          "output_type": "execute_result"
        }
      ],
      "source": [
        "Q_norms[-10:]"
      ]
    },
    {
      "cell_type": "code",
      "execution_count": null,
      "metadata": {
        "colab": {
          "base_uri": "https://localhost:8080/",
          "height": 430
        },
        "id": "9pWHKX-2v8pE",
        "outputId": "76b77ff0-de85-4e47-e512-e105adae342e"
      },
      "outputs": [
        {
          "data": {
            "image/png": "[encoded data removed]",
            "text/plain": [
              "<Figure size 640x480 with 1 Axes>"
            ]
          },
          "metadata": {},
          "output_type": "display_data"
        }
      ],
      "source": [
        "import matplotlib.pyplot as plt\n",
        "\n",
        "# Use rolling average to smooth the rewards graph (if necessary)\n",
        "rolling_average_len = 1\n",
        "smooth_rewards_graph = np.cumsum(rewards_graph)\n",
        "smooth_rewards_graph = smooth_rewards_graph[rolling_average_len:] - smooth_rewards_graph[:-rolling_average_len]\n",
        "smooth_rewards_graph = smooth_rewards_graph.astype(float) / rolling_average_len\n",
        "\n",
        "plt.plot(smooth_rewards_graph)\n",
        "plt.show()"
      ]
    },
    {
      "cell_type": "code",
      "execution_count": null,
      "metadata": {
        "colab": {
          "base_uri": "https://localhost:8080/",
          "height": 1000
        },
        "id": "xpQI4BRT0f-R",
        "outputId": "37a08e13-c034-42e3-a4e0-4d31c048ccc9"
      },
      "outputs": [
        {
          "data": {
            "text/plain": [
              "[]"
            ]
          },
          "execution_count": 47,
          "metadata": {},
          "output_type": "execute_result"
        },
        {
          "data": {
            "image/png": "[encoded data removed]",
            "text/plain": [
              "<Figure size 2400x2400 with 4 Axes>"
            ]
          },
          "metadata": {},
          "output_type": "display_data"
        }
      ],
      "source": [
        "# Plot losses\n",
        "fig, axarr = plt.subplots(2, 2)\n",
        "\n",
        "axarr[0, 0].plot(Q1_loss_graph)\n",
        "axarr[0, 0].title.set_text(\"Q1 Loss\")\n",
        "axarr[0, 1].plot(Q2_loss_graph)\n",
        "axarr[0, 1].title.set_text(\"Q2 Loss\")\n",
        "axarr[1, 0].plot(policy_loss_graph)\n",
        "axarr[1, 0].title.set_text(\"Policy Loss\")\n",
        "axarr[1, 1].plot(alpha_loss_graph)\n",
        "axarr[1, 1].title.set_text(\"Alpha Loss\")\n",
        "fig.set_size_inches(24, 24)\n",
        "plt.plot()"
      ]
    },
    {
      "cell_type": "code",
      "execution_count": null,
      "metadata": {
        "colab": {
          "base_uri": "https://localhost:8080/",
          "height": 430
        },
        "id": "bfSpOUdvZNQ9",
        "outputId": "30d2c6a5-171d-4777-fb40-0b426a89fd04"
      },
      "outputs": [
        {
          "data": {
            "image/png": "[encoded data removed]",
            "text/plain": [
              "<Figure size 640x480 with 1 Axes>"
            ]
          },
          "metadata": {},
          "output_type": "display_data"
        }
      ],
      "source": [
        "# Plot Q-Loss, smoothing using exponential rolling average if necessary\n",
        "factor = 0.98\n",
        "\n",
        "smooth_Q_graph = []\n",
        "\n",
        "avg = 0\n",
        "\n",
        "for idx, i in enumerate(Q1_loss_graph):\n",
        "    avg = factor * avg + (1 - factor) * i\n",
        "    smooth_Q_graph.append(avg / (1 - factor ** (idx + 1)))\n",
        "plt.plot(smooth_Q_graph)\n",
        "plt.show()"
      ]
    },
    {
      "cell_type": "code",
      "execution_count": null,
      "metadata": {
        "colab": {
          "base_uri": "https://localhost:8080/",
          "height": 430
        },
        "id": "1HR87ko5NlIc",
        "outputId": "7d76b5a5-b383-402e-aedf-2a1de3661012"
      },
      "outputs": [
        {
          "data": {
            "image/png": "[encoded data removed]",
            "text/plain": [
              "<Figure size 640x480 with 1 Axes>"
            ]
          },
          "metadata": {},
          "output_type": "display_data"
        }
      ],
      "source": [
        "# Plot log_alpha over time\n",
        "plt.plot(log_alpha_graph)\n",
        "plt.show()"
      ]
    },
    {
      "cell_type": "markdown",
      "metadata": {
        "id": "FnaFiJIe_QWo"
      },
      "source": [
        "Visualize Trained Policy"
      ]
    },
    {
      "cell_type": "code",
      "execution_count": null,
      "metadata": {
        "id": "xqLwXA-x_O8h"
      },
      "outputs": [],
      "source": [
        "%%capture\n",
        "!apt update\n",
        "!apt install xvfb\n",
        "! pip install pyvirtualdisplay"
      ]
    },
    {
      "cell_type": "code",
      "execution_count": null,
      "metadata": {
        "colab": {
          "base_uri": "https://localhost:8080/"
        },
        "id": "DIRfAWokXKOu",
        "outputId": "1d5e4f61-0fea-41d5-9267-db88e0deea48"
      },
      "outputs": [
        {
          "name": "stdout",
          "output_type": "stream",
          "text": [
            "tensor([[0.0000e+00, 0.0000e+00, 1.0000e+00, 1.1521e-38, 8.6486e-12]],\n",
            "       device='cuda:0', grad_fn=<SoftmaxBackward0>)\n",
            "tensor([[9.8091e-44, 5.7238e-39, 2.8026e-45, 7.4319e-30, 1.0000e+00]],\n",
            "       device='cuda:0', grad_fn=<SoftmaxBackward0>)\n",
            "tensor([[9.8234e-28, 9.3960e-24, 1.4013e-45, 9.4398e-33, 1.0000e+00]],\n",
            "       device='cuda:0', grad_fn=<SoftmaxBackward0>)\n",
            "tensor([[6.6590e-31, 1.0000e+00, 1.0926e-25, 0.0000e+00, 6.2797e-09]],\n",
            "       device='cuda:0', grad_fn=<SoftmaxBackward0>)\n",
            "tensor([[1.0429e-22, 3.9471e-10, 6.4421e-14, 2.1738e-28, 1.0000e+00]],\n",
            "       device='cuda:0', grad_fn=<SoftmaxBackward0>)\n",
            "tensor([[1.7920e-29, 5.5802e-14, 7.6555e-18, 4.7675e-25, 1.0000e+00]],\n",
            "       device='cuda:0', grad_fn=<SoftmaxBackward0>)\n",
            "tensor([[3.0523e-24, 2.5446e-10, 7.2608e-09, 1.9007e-23, 1.0000e+00]],\n",
            "       device='cuda:0', grad_fn=<SoftmaxBackward0>)\n",
            "tensor([[1.6539e-19, 1.0000e+00, 4.4813e-13, 7.2853e-20, 2.0155e-09]],\n",
            "       device='cuda:0', grad_fn=<SoftmaxBackward0>)\n",
            "tensor([[2.7593e-16, 1.0000e+00, 7.1769e-08, 6.2647e-08, 1.6208e-07]],\n",
            "       device='cuda:0', grad_fn=<SoftmaxBackward0>)\n",
            "tensor([[7.5433e-19, 2.6628e-13, 1.1883e-08, 1.4582e-17, 1.0000e+00]],\n",
            "       device='cuda:0', grad_fn=<SoftmaxBackward0>)\n",
            "tensor([[7.1315e-15, 9.8873e-10, 9.7855e-09, 2.0860e-13, 1.0000e+00]],\n",
            "       device='cuda:0', grad_fn=<SoftmaxBackward0>)\n",
            "tensor([[5.1213e-09, 2.7350e-09, 9.9398e-01, 1.9230e-09, 6.0183e-03]],\n",
            "       device='cuda:0', grad_fn=<SoftmaxBackward0>)\n",
            "tensor([[1.6579e-10, 1.3627e-11, 1.0000e+00, 5.1802e-14, 2.9277e-06]],\n",
            "       device='cuda:0', grad_fn=<SoftmaxBackward0>)\n",
            "tensor([[4.3940e-07, 1.6680e-04, 3.8002e-07, 5.6489e-09, 9.9983e-01]],\n",
            "       device='cuda:0', grad_fn=<SoftmaxBackward0>)\n",
            "tensor([[1.4014e-09, 9.7106e-04, 9.9844e-01, 2.6097e-08, 5.9358e-04]],\n",
            "       device='cuda:0', grad_fn=<SoftmaxBackward0>)\n",
            "tensor([[2.7551e-10, 9.9566e-01, 5.3990e-13, 3.1051e-05, 4.3063e-03]],\n",
            "       device='cuda:0', grad_fn=<SoftmaxBackward0>)\n",
            "tensor([[3.2629e-12, 3.2583e-03, 9.9669e-01, 4.7548e-05, 1.0571e-06]],\n",
            "       device='cuda:0', grad_fn=<SoftmaxBackward0>)\n",
            "tensor([[1.7301e-06, 3.4854e-02, 1.2165e-06, 3.3013e-08, 9.6514e-01]],\n",
            "       device='cuda:0', grad_fn=<SoftmaxBackward0>)\n",
            "tensor([[3.9924e-09, 9.9005e-06, 1.4003e-01, 1.0513e-10, 8.5996e-01]],\n",
            "       device='cuda:0', grad_fn=<SoftmaxBackward0>)\n",
            "tensor([[4.1657e-14, 2.5377e-11, 1.7715e-04, 2.5625e-17, 9.9982e-01]],\n",
            "       device='cuda:0', grad_fn=<SoftmaxBackward0>)\n",
            "tensor([[9.2739e-14, 4.5715e-13, 3.5363e-05, 1.4690e-16, 9.9996e-01]],\n",
            "       device='cuda:0', grad_fn=<SoftmaxBackward0>)\n",
            "tensor([[6.6630e-10, 9.0344e-14, 4.2819e-05, 9.6145e-12, 9.9996e-01]],\n",
            "       device='cuda:0', grad_fn=<SoftmaxBackward0>)\n",
            "tensor([[1.6364e-09, 2.2793e-08, 3.4139e-12, 5.0232e-10, 1.0000e+00]],\n",
            "       device='cuda:0', grad_fn=<SoftmaxBackward0>)\n",
            "tensor([[5.4660e-08, 1.1057e-07, 1.3083e-15, 1.1103e-07, 1.0000e+00]],\n",
            "       device='cuda:0', grad_fn=<SoftmaxBackward0>)\n",
            "tensor([[1.0426e-05, 5.4811e-09, 1.0921e-22, 1.8301e-03, 9.9816e-01]],\n",
            "       device='cuda:0', grad_fn=<SoftmaxBackward0>)\n",
            "tensor([[2.2978e-04, 2.8309e-11, 2.4727e-26, 9.1520e-01, 8.4573e-02]],\n",
            "       device='cuda:0', grad_fn=<SoftmaxBackward0>)\n",
            "tensor([[2.8926e-04, 8.9560e-11, 4.1286e-28, 9.9964e-01, 7.4644e-05]],\n",
            "       device='cuda:0', grad_fn=<SoftmaxBackward0>)\n",
            "tensor([[1.3804e-04, 1.0034e-12, 2.3346e-28, 9.9986e-01, 6.2304e-07]],\n",
            "       device='cuda:0', grad_fn=<SoftmaxBackward0>)\n",
            "tensor([[3.9862e-02, 3.0963e-04, 4.0202e-18, 9.5511e-01, 4.7226e-03]],\n",
            "       device='cuda:0', grad_fn=<SoftmaxBackward0>)\n",
            "tensor([[1.5398e-03, 9.9733e-01, 1.1841e-14, 9.0423e-05, 1.0435e-03]],\n",
            "       device='cuda:0', grad_fn=<SoftmaxBackward0>)\n",
            "tensor([[1.5751e-07, 1.0000e+00, 1.1567e-12, 3.5568e-12, 5.9247e-08]],\n",
            "       device='cuda:0', grad_fn=<SoftmaxBackward0>)\n",
            "tensor([[2.6232e-01, 7.3767e-01, 8.0489e-07, 1.7506e-07, 1.2878e-06]],\n",
            "       device='cuda:0', grad_fn=<SoftmaxBackward0>)\n",
            "tensor([[1.0000e+00, 2.7846e-08, 1.3380e-06, 1.5812e-07, 2.9561e-10]],\n",
            "       device='cuda:0', grad_fn=<SoftmaxBackward0>)\n",
            "tensor([[9.9838e-01, 1.0810e-03, 5.1595e-04, 2.5064e-05, 8.0796e-07]],\n",
            "       device='cuda:0', grad_fn=<SoftmaxBackward0>)\n",
            "tensor([[4.5590e-04, 9.9952e-01, 1.6390e-05, 4.1166e-06, 8.1458e-06]],\n",
            "       device='cuda:0', grad_fn=<SoftmaxBackward0>)\n",
            "tensor([[9.3787e-01, 2.2292e-05, 4.5140e-02, 1.6970e-02, 1.7864e-07]],\n",
            "       device='cuda:0', grad_fn=<SoftmaxBackward0>)\n",
            "tensor([[1.4928e-02, 1.3035e-01, 1.1090e-01, 7.4381e-01, 1.3109e-05]],\n",
            "       device='cuda:0', grad_fn=<SoftmaxBackward0>)\n",
            "tensor([[1.7620e-06, 9.6123e-01, 3.6273e-05, 3.8727e-02, 4.4753e-06]],\n",
            "       device='cuda:0', grad_fn=<SoftmaxBackward0>)\n",
            "tensor([[2.5352e-06, 1.5921e-05, 1.0930e-02, 9.8905e-01, 1.8289e-08]],\n",
            "       device='cuda:0', grad_fn=<SoftmaxBackward0>)\n",
            "tensor([[8.5583e-10, 2.6625e-03, 1.8033e-05, 9.9732e-01, 1.3674e-07]],\n",
            "       device='cuda:0', grad_fn=<SoftmaxBackward0>)\n",
            "tensor([[2.3751e-11, 1.8012e-04, 1.8447e-06, 9.9982e-01, 6.4784e-09]],\n",
            "       device='cuda:0', grad_fn=<SoftmaxBackward0>)\n",
            "tensor([[1.1427e-12, 1.7277e-05, 1.7010e-07, 9.9998e-01, 2.4558e-10]],\n",
            "       device='cuda:0', grad_fn=<SoftmaxBackward0>)\n",
            "tensor([[6.2407e-14, 3.1962e-06, 7.7507e-09, 1.0000e+00, 1.0146e-11]],\n",
            "       device='cuda:0', grad_fn=<SoftmaxBackward0>)\n",
            "tensor([[5.2502e-15, 9.8484e-07, 3.3986e-10, 1.0000e+00, 5.6982e-13]],\n",
            "       device='cuda:0', grad_fn=<SoftmaxBackward0>)\n",
            "tensor([[7.5694e-16, 5.3697e-07, 4.7885e-11, 1.0000e+00, 7.2632e-14]],\n",
            "       device='cuda:0', grad_fn=<SoftmaxBackward0>)\n",
            "tensor([[2.1235e-16, 5.9759e-07, 5.1275e-12, 1.0000e+00, 1.0578e-14]],\n",
            "       device='cuda:0', grad_fn=<SoftmaxBackward0>)\n",
            "tensor([[5.7345e-17, 7.0749e-07, 4.6490e-13, 1.0000e+00, 1.6912e-15]],\n",
            "       device='cuda:0', grad_fn=<SoftmaxBackward0>)\n",
            "tensor([[1.8319e-17, 7.6301e-07, 6.0663e-14, 1.0000e+00, 3.8701e-16]],\n",
            "       device='cuda:0', grad_fn=<SoftmaxBackward0>)\n",
            "tensor([[7.2453e-18, 7.4645e-07, 6.0514e-15, 1.0000e+00, 8.9377e-17]],\n",
            "       device='cuda:0', grad_fn=<SoftmaxBackward0>)\n",
            "tensor([[4.5684e-18, 8.5652e-07, 1.0457e-15, 1.0000e+00, 4.6538e-17]],\n",
            "       device='cuda:0', grad_fn=<SoftmaxBackward0>)\n",
            "tensor([[2.8099e-18, 3.9158e-07, 4.5692e-16, 1.0000e+00, 1.9294e-17]],\n",
            "       device='cuda:0', grad_fn=<SoftmaxBackward0>)\n",
            "tensor([[1.8791e-18, 1.7726e-07, 2.3072e-16, 1.0000e+00, 9.0649e-18]],\n",
            "       device='cuda:0', grad_fn=<SoftmaxBackward0>)\n",
            "tensor([[1.2281e-18, 6.0342e-08, 1.2110e-16, 1.0000e+00, 3.9249e-18]],\n",
            "       device='cuda:0', grad_fn=<SoftmaxBackward0>)\n",
            "tensor([[6.5624e-19, 2.0324e-08, 6.8990e-17, 1.0000e+00, 1.7452e-18]],\n",
            "       device='cuda:0', grad_fn=<SoftmaxBackward0>)\n",
            "tensor([[4.4931e-19, 1.7542e-08, 4.1631e-17, 1.0000e+00, 7.9517e-19]],\n",
            "       device='cuda:0', grad_fn=<SoftmaxBackward0>)\n",
            "tensor([[6.9696e-19, 7.2855e-09, 8.0818e-17, 1.0000e+00, 1.5886e-18]],\n",
            "       device='cuda:0', grad_fn=<SoftmaxBackward0>)\n",
            "tensor([[5.2642e-19, 5.6108e-09, 7.5480e-17, 1.0000e+00, 1.3550e-18]],\n",
            "       device='cuda:0', grad_fn=<SoftmaxBackward0>)\n",
            "tensor([[2.9343e-19, 3.8502e-09, 5.9528e-17, 1.0000e+00, 9.9081e-19]],\n",
            "       device='cuda:0', grad_fn=<SoftmaxBackward0>)\n",
            "tensor([[1.7590e-19, 2.5641e-09, 4.2423e-17, 1.0000e+00, 7.6873e-19]],\n",
            "       device='cuda:0', grad_fn=<SoftmaxBackward0>)\n",
            "tensor([[1.1549e-19, 1.5937e-09, 2.6806e-17, 1.0000e+00, 6.3134e-19]],\n",
            "       device='cuda:0', grad_fn=<SoftmaxBackward0>)\n",
            "tensor([[1.0049e-19, 8.1619e-10, 2.5563e-17, 1.0000e+00, 6.0625e-19]],\n",
            "       device='cuda:0', grad_fn=<SoftmaxBackward0>)\n",
            "tensor([[5.2897e-20, 3.2835e-10, 1.5035e-17, 1.0000e+00, 3.6814e-19]],\n",
            "       device='cuda:0', grad_fn=<SoftmaxBackward0>)\n",
            "tensor([[2.1965e-20, 1.9609e-10, 6.9651e-18, 1.0000e+00, 1.9192e-19]],\n",
            "       device='cuda:0', grad_fn=<SoftmaxBackward0>)\n",
            "tensor([[1.4704e-20, 1.9983e-10, 2.4715e-18, 1.0000e+00, 6.9003e-20]],\n",
            "       device='cuda:0', grad_fn=<SoftmaxBackward0>)\n",
            "tensor([[6.5734e-21, 1.3626e-10, 2.1561e-18, 1.0000e+00, 2.4383e-20]],\n",
            "       device='cuda:0', grad_fn=<SoftmaxBackward0>)\n",
            "tensor([[3.4434e-21, 1.1350e-10, 1.6474e-18, 1.0000e+00, 1.1903e-20]],\n",
            "       device='cuda:0', grad_fn=<SoftmaxBackward0>)\n",
            "tensor([[1.3104e-21, 7.3752e-11, 8.5981e-19, 1.0000e+00, 6.9194e-21]],\n",
            "       device='cuda:0', grad_fn=<SoftmaxBackward0>)\n",
            "tensor([[6.7044e-22, 4.9232e-11, 6.1319e-19, 1.0000e+00, 5.0846e-21]],\n",
            "       device='cuda:0', grad_fn=<SoftmaxBackward0>)\n",
            "tensor([[2.5232e-22, 2.1571e-11, 3.1462e-19, 1.0000e+00, 2.3263e-21]],\n",
            "       device='cuda:0', grad_fn=<SoftmaxBackward0>)\n",
            "tensor([[1.7810e-22, 1.4436e-11, 2.5297e-19, 1.0000e+00, 1.7839e-21]],\n",
            "       device='cuda:0', grad_fn=<SoftmaxBackward0>)\n",
            "tensor([[1.8742e-22, 1.4933e-11, 1.8339e-19, 1.0000e+00, 2.1723e-21]],\n",
            "       device='cuda:0', grad_fn=<SoftmaxBackward0>)\n",
            "tensor([[5.9832e-23, 1.3201e-11, 8.8241e-20, 1.0000e+00, 2.3485e-22]],\n",
            "       device='cuda:0', grad_fn=<SoftmaxBackward0>)\n",
            "tensor([[3.1441e-23, 5.2976e-12, 8.0002e-20, 1.0000e+00, 1.0754e-22]],\n",
            "       device='cuda:0', grad_fn=<SoftmaxBackward0>)\n",
            "tensor([[1.2292e-23, 1.4919e-12, 1.1859e-19, 1.0000e+00, 4.1029e-23]],\n",
            "       device='cuda:0', grad_fn=<SoftmaxBackward0>)\n",
            "tensor([[9.4633e-24, 5.9906e-13, 3.2992e-19, 1.0000e+00, 2.7514e-23]],\n",
            "       device='cuda:0', grad_fn=<SoftmaxBackward0>)\n",
            "tensor([[8.7788e-24, 4.1014e-13, 6.1169e-19, 1.0000e+00, 3.6995e-23]],\n",
            "       device='cuda:0', grad_fn=<SoftmaxBackward0>)\n",
            "tensor([[6.3045e-24, 1.9606e-13, 8.4120e-19, 1.0000e+00, 3.0964e-23]],\n",
            "       device='cuda:0', grad_fn=<SoftmaxBackward0>)\n",
            "tensor([[2.1524e-23, 1.6176e-13, 6.5619e-18, 1.0000e+00, 3.7084e-22]],\n",
            "       device='cuda:0', grad_fn=<SoftmaxBackward0>)\n",
            "tensor([[1.7434e-23, 1.0474e-13, 1.4999e-17, 1.0000e+00, 1.7313e-22]],\n",
            "       device='cuda:0', grad_fn=<SoftmaxBackward0>)\n",
            "tensor([[2.4757e-23, 8.9703e-14, 5.4572e-17, 1.0000e+00, 2.8417e-22]],\n",
            "       device='cuda:0', grad_fn=<SoftmaxBackward0>)\n",
            "tensor([[4.0840e-23, 7.2570e-14, 2.4799e-16, 1.0000e+00, 5.0850e-22]],\n",
            "       device='cuda:0', grad_fn=<SoftmaxBackward0>)\n",
            "tensor([[1.1364e-22, 1.3298e-13, 1.6281e-15, 1.0000e+00, 2.0141e-21]],\n",
            "       device='cuda:0', grad_fn=<SoftmaxBackward0>)\n",
            "tensor([[2.8113e-22, 4.5271e-13, 2.4500e-15, 1.0000e+00, 6.0351e-21]],\n",
            "       device='cuda:0', grad_fn=<SoftmaxBackward0>)\n",
            "tensor([[5.1448e-22, 3.1697e-12, 4.2277e-15, 1.0000e+00, 2.4598e-20]],\n",
            "       device='cuda:0', grad_fn=<SoftmaxBackward0>)\n",
            "tensor([[4.8483e-22, 1.6342e-11, 6.9380e-15, 1.0000e+00, 9.0935e-20]],\n",
            "       device='cuda:0', grad_fn=<SoftmaxBackward0>)\n",
            "tensor([[1.3707e-22, 1.9317e-11, 7.0268e-16, 1.0000e+00, 2.9987e-20]],\n",
            "       device='cuda:0', grad_fn=<SoftmaxBackward0>)\n",
            "tensor([[3.2427e-23, 5.6021e-12, 3.2106e-17, 1.0000e+00, 4.7245e-21]],\n",
            "       device='cuda:0', grad_fn=<SoftmaxBackward0>)\n",
            "tensor([[3.4865e-23, 5.5835e-12, 2.0777e-17, 1.0000e+00, 3.7109e-21]],\n",
            "       device='cuda:0', grad_fn=<SoftmaxBackward0>)\n",
            "tensor([[8.8584e-22, 5.6602e-17, 2.1494e-17, 1.0000e+00, 2.5782e-21]],\n",
            "       device='cuda:0', grad_fn=<SoftmaxBackward0>)\n",
            "tensor([[3.4449e-23, 6.9163e-24, 2.3196e-23, 1.0000e+00, 6.5690e-25]],\n",
            "       device='cuda:0', grad_fn=<SoftmaxBackward0>)\n",
            "tensor([[2.8202e-24, 6.9761e-27, 5.2352e-27, 1.0000e+00, 2.6103e-26]],\n",
            "       device='cuda:0', grad_fn=<SoftmaxBackward0>)\n",
            "tensor([[5.5275e-25, 6.8632e-30, 7.0422e-30, 1.0000e+00, 9.3055e-28]],\n",
            "       device='cuda:0', grad_fn=<SoftmaxBackward0>)\n",
            "tensor([[2.1802e-26, 5.4441e-34, 6.4917e-33, 1.0000e+00, 5.6303e-30]],\n",
            "       device='cuda:0', grad_fn=<SoftmaxBackward0>)\n",
            "tensor([[1.0626e-25, 3.8450e-33, 5.4438e-31, 1.0000e+00, 3.2601e-29]],\n",
            "       device='cuda:0', grad_fn=<SoftmaxBackward0>)\n",
            "tensor([[2.4027e-23, 6.2832e-30, 4.7680e-27, 1.0000e+00, 3.6162e-26]],\n",
            "       device='cuda:0', grad_fn=<SoftmaxBackward0>)\n",
            "tensor([[3.0240e-22, 8.2476e-31, 9.0439e-24, 1.0000e+00, 1.2712e-25]],\n",
            "       device='cuda:0', grad_fn=<SoftmaxBackward0>)\n",
            "tensor([[9.8846e-21, 4.6653e-30, 1.0444e-20, 1.0000e+00, 1.4742e-24]],\n",
            "       device='cuda:0', grad_fn=<SoftmaxBackward0>)\n",
            "tensor([[2.8575e-19, 1.5305e-26, 5.5832e-17, 1.0000e+00, 1.4263e-22]],\n",
            "       device='cuda:0', grad_fn=<SoftmaxBackward0>)\n",
            "tensor([[3.7369e-19, 4.3908e-26, 4.1373e-13, 1.0000e+00, 1.2765e-21]],\n",
            "       device='cuda:0', grad_fn=<SoftmaxBackward0>)\n",
            "tensor([[1.3480e-18, 8.3409e-25, 5.9159e-11, 1.0000e+00, 3.5438e-20]],\n",
            "       device='cuda:0', grad_fn=<SoftmaxBackward0>)\n",
            "tensor([[8.0316e-17, 6.4998e-22, 2.6599e-09, 1.0000e+00, 6.8326e-18]],\n",
            "       device='cuda:0', grad_fn=<SoftmaxBackward0>)\n",
            "tensor([[4.7808e-16, 1.2697e-22, 1.0562e-06, 1.0000e+00, 8.2418e-17]],\n",
            "       device='cuda:0', grad_fn=<SoftmaxBackward0>)\n",
            "tensor([[6.3782e-16, 7.2795e-22, 4.9671e-05, 9.9995e-01, 3.9775e-16]],\n",
            "       device='cuda:0', grad_fn=<SoftmaxBackward0>)\n",
            "tensor([[2.4321e-15, 1.8481e-19, 6.4968e-04, 9.9935e-01, 5.6661e-15]],\n",
            "       device='cuda:0', grad_fn=<SoftmaxBackward0>)\n",
            "tensor([[2.0348e-16, 1.3606e-19, 3.1591e-02, 9.6841e-01, 1.8214e-14]],\n",
            "       device='cuda:0', grad_fn=<SoftmaxBackward0>)\n",
            "tensor([[1.8732e-17, 3.9731e-19, 5.4799e-02, 9.4520e-01, 1.8437e-14]],\n",
            "       device='cuda:0', grad_fn=<SoftmaxBackward0>)\n",
            "tensor([[2.9061e-18, 3.8345e-18, 6.7502e-01, 3.2498e-01, 3.0417e-15]],\n",
            "       device='cuda:0', grad_fn=<SoftmaxBackward0>)\n",
            "tensor([[9.7038e-19, 2.6799e-18, 8.5414e-02, 9.1459e-01, 1.3434e-16]],\n",
            "       device='cuda:0', grad_fn=<SoftmaxBackward0>)\n",
            "tensor([[3.2142e-24, 1.7694e-22, 9.9989e-01, 1.0877e-04, 1.3851e-20]],\n",
            "       device='cuda:0', grad_fn=<SoftmaxBackward0>)\n",
            "tensor([[5.7108e-21, 1.9411e-18, 3.4097e-01, 6.5903e-01, 4.2927e-17]],\n",
            "       device='cuda:0', grad_fn=<SoftmaxBackward0>)\n",
            "tensor([[9.9679e-27, 1.0534e-24, 9.9999e-01, 6.1582e-06, 8.5426e-23]],\n",
            "       device='cuda:0', grad_fn=<SoftmaxBackward0>)\n",
            "tensor([[5.2343e-29, 1.8876e-26, 1.0000e+00, 4.9982e-07, 1.3206e-25]],\n",
            "       device='cuda:0', grad_fn=<SoftmaxBackward0>)\n",
            "tensor([[1.0607e-17, 1.1186e-16, 9.9812e-08, 1.0000e+00, 4.9928e-17]],\n",
            "       device='cuda:0', grad_fn=<SoftmaxBackward0>)\n",
            "tensor([[8.9112e-25, 1.9657e-24, 1.0000e+00, 1.3678e-06, 1.2212e-23]],\n",
            "       device='cuda:0', grad_fn=<SoftmaxBackward0>)\n",
            "tensor([[7.5642e-19, 1.6124e-20, 9.9753e-01, 2.4750e-03, 3.4001e-21]],\n",
            "       device='cuda:0', grad_fn=<SoftmaxBackward0>)\n",
            "tensor([[4.4773e-10, 4.1872e-15, 1.8630e-08, 1.0000e+00, 1.9669e-17]],\n",
            "       device='cuda:0', grad_fn=<SoftmaxBackward0>)\n",
            "tensor([[5.7470e-11, 9.5493e-16, 7.1098e-01, 2.8902e-01, 1.7937e-17]],\n",
            "       device='cuda:0', grad_fn=<SoftmaxBackward0>)\n",
            "tensor([[1.7473e-08, 6.4243e-14, 6.6161e-06, 9.9999e-01, 3.7358e-17]],\n",
            "       device='cuda:0', grad_fn=<SoftmaxBackward0>)\n",
            "tensor([[3.7833e-11, 3.6588e-15, 1.2517e-02, 9.8748e-01, 1.0510e-17]],\n",
            "       device='cuda:0', grad_fn=<SoftmaxBackward0>)\n",
            "tensor([[3.6014e-28, 1.4426e-32, 1.0000e+00, 1.3196e-13, 8.9441e-32]],\n",
            "       device='cuda:0', grad_fn=<SoftmaxBackward0>)\n",
            "tensor([[2.8466e-18, 7.5139e-22, 9.9716e-01, 2.8432e-03, 5.0914e-22]],\n",
            "       device='cuda:0', grad_fn=<SoftmaxBackward0>)\n",
            "tensor([[2.0432e-13, 3.1466e-17, 1.2702e-12, 1.0000e+00, 2.4786e-19]],\n",
            "       device='cuda:0', grad_fn=<SoftmaxBackward0>)\n",
            "tensor([[4.6868e-17, 1.5118e-17, 1.0307e-07, 1.0000e+00, 1.0424e-19]],\n",
            "       device='cuda:0', grad_fn=<SoftmaxBackward0>)\n",
            "tensor([[5.9409e-27, 1.9841e-26, 1.0000e+00, 1.2552e-06, 1.7882e-26]],\n",
            "       device='cuda:0', grad_fn=<SoftmaxBackward0>)\n",
            "tensor([[3.1988e-20, 1.2763e-18, 1.1818e-03, 9.9882e-01, 1.7324e-19]],\n",
            "       device='cuda:0', grad_fn=<SoftmaxBackward0>)\n",
            "tensor([[1.6023e-25, 1.0150e-23, 9.9994e-01, 6.0175e-05, 4.5500e-23]],\n",
            "       device='cuda:0', grad_fn=<SoftmaxBackward0>)\n",
            "tensor([[4.1445e-21, 3.0535e-19, 1.3523e-02, 9.8648e-01, 1.9519e-19]],\n",
            "       device='cuda:0', grad_fn=<SoftmaxBackward0>)\n",
            "tensor([[1.9022e-25, 3.9628e-24, 9.9997e-01, 3.2529e-05, 1.9166e-21]],\n",
            "       device='cuda:0', grad_fn=<SoftmaxBackward0>)\n",
            "tensor([[2.3925e-20, 7.0953e-18, 8.7093e-01, 1.2907e-01, 8.8613e-17]],\n",
            "       device='cuda:0', grad_fn=<SoftmaxBackward0>)\n",
            "tensor([[2.1338e-14, 1.3656e-12, 1.4065e-11, 1.0000e+00, 4.3985e-13]],\n",
            "       device='cuda:0', grad_fn=<SoftmaxBackward0>)\n",
            "tensor([[8.5498e-17, 1.9539e-14, 2.0456e-03, 9.9795e-01, 1.8131e-13]],\n",
            "       device='cuda:0', grad_fn=<SoftmaxBackward0>)\n",
            "tensor([[6.4973e-29, 1.0331e-28, 1.0000e+00, 1.0182e-10, 1.8178e-23]],\n",
            "       device='cuda:0', grad_fn=<SoftmaxBackward0>)\n",
            "tensor([[1.3271e-20, 1.9740e-19, 9.9939e-01, 6.1366e-04, 1.3520e-16]],\n",
            "       device='cuda:0', grad_fn=<SoftmaxBackward0>)\n",
            "tensor([[5.0003e-13, 5.0254e-13, 1.3142e-08, 1.0000e+00, 8.3062e-12]],\n",
            "       device='cuda:0', grad_fn=<SoftmaxBackward0>)\n",
            "tensor([[2.0545e-15, 1.1011e-15, 9.7172e-01, 2.8276e-02, 1.4743e-13]],\n",
            "       device='cuda:0', grad_fn=<SoftmaxBackward0>)\n",
            "tensor([[8.2968e-14, 3.5548e-14, 1.2356e-05, 9.9999e-01, 8.4576e-12]],\n",
            "       device='cuda:0', grad_fn=<SoftmaxBackward0>)\n",
            "tensor([[1.3012e-17, 2.0408e-18, 9.9973e-01, 2.6540e-04, 3.7085e-16]],\n",
            "       device='cuda:0', grad_fn=<SoftmaxBackward0>)\n",
            "tensor([[1.3344e-16, 7.1480e-17, 1.1186e-05, 9.9999e-01, 1.1628e-14]],\n",
            "       device='cuda:0', grad_fn=<SoftmaxBackward0>)\n",
            "tensor([[3.3504e-18, 9.4358e-19, 9.3359e-01, 6.6408e-02, 6.7191e-17]],\n",
            "       device='cuda:0', grad_fn=<SoftmaxBackward0>)\n",
            "tensor([[3.0768e-18, 9.5964e-19, 5.8104e-09, 1.0000e+00, 2.6317e-16]],\n",
            "       device='cuda:0', grad_fn=<SoftmaxBackward0>)\n",
            "tensor([[1.2148e-17, 3.9006e-18, 3.8339e-05, 9.9996e-01, 2.9553e-16]],\n",
            "       device='cuda:0', grad_fn=<SoftmaxBackward0>)\n",
            "tensor([[1.7549e-31, 1.3286e-29, 1.0000e+00, 1.7859e-10, 3.0517e-27]],\n",
            "       device='cuda:0', grad_fn=<SoftmaxBackward0>)\n",
            "tensor([[8.0771e-21, 9.2161e-20, 1.7185e-02, 9.8281e-01, 2.2342e-17]],\n",
            "       device='cuda:0', grad_fn=<SoftmaxBackward0>)\n",
            "tensor([[1.0156e-24, 7.1021e-24, 9.9998e-01, 2.2724e-05, 2.2462e-22]],\n",
            "       device='cuda:0', grad_fn=<SoftmaxBackward0>)\n",
            "tensor([[1.2729e-20, 9.2188e-20, 2.9317e-02, 9.7068e-01, 2.9103e-18]],\n",
            "       device='cuda:0', grad_fn=<SoftmaxBackward0>)\n",
            "tensor([[1.7970e-22, 1.2947e-21, 9.9881e-01, 1.1880e-03, 2.2362e-20]],\n",
            "       device='cuda:0', grad_fn=<SoftmaxBackward0>)\n",
            "tensor([[2.7005e-21, 3.9810e-20, 9.2985e-07, 1.0000e+00, 5.0042e-19]],\n",
            "       device='cuda:0', grad_fn=<SoftmaxBackward0>)\n",
            "tensor([[4.2520e-20, 2.2158e-18, 1.2172e-01, 8.7828e-01, 2.9755e-17]],\n",
            "       device='cuda:0', grad_fn=<SoftmaxBackward0>)\n",
            "tensor([[4.3307e-32, 3.6151e-29, 1.0000e+00, 5.5575e-10, 2.7179e-27]],\n",
            "       device='cuda:0', grad_fn=<SoftmaxBackward0>)\n",
            "tensor([[4.4598e-28, 3.4966e-25, 9.9999e-01, 5.9683e-06, 9.3672e-24]],\n",
            "       device='cuda:0', grad_fn=<SoftmaxBackward0>)\n",
            "tensor([[3.8895e-20, 2.4872e-19, 3.7042e-11, 1.0000e+00, 2.3687e-18]],\n",
            "       device='cuda:0', grad_fn=<SoftmaxBackward0>)\n",
            "tensor([[7.5341e-20, 3.5029e-18, 2.7265e-02, 9.7273e-01, 3.2924e-16]],\n",
            "       device='cuda:0', grad_fn=<SoftmaxBackward0>)\n",
            "tensor([[1.2377e-29, 1.6374e-26, 1.0000e+00, 5.3367e-08, 3.8295e-24]],\n",
            "       device='cuda:0', grad_fn=<SoftmaxBackward0>)\n",
            "tensor([[9.8892e-25, 2.0534e-22, 9.8412e-01, 1.5880e-02, 5.0433e-20]],\n",
            "       device='cuda:0', grad_fn=<SoftmaxBackward0>)\n",
            "tensor([[4.8788e-19, 7.1887e-20, 1.3383e-14, 1.0000e+00, 2.2197e-18]],\n",
            "       device='cuda:0', grad_fn=<SoftmaxBackward0>)\n",
            "tensor([[3.5092e-19, 9.6910e-19, 1.8643e-05, 9.9998e-01, 7.1001e-17]],\n",
            "       device='cuda:0', grad_fn=<SoftmaxBackward0>)\n",
            "tensor([[3.4349e-28, 1.3074e-26, 1.0000e+00, 8.3922e-07, 2.1611e-24]],\n",
            "       device='cuda:0', grad_fn=<SoftmaxBackward0>)\n",
            "tensor([[2.8541e-24, 5.2449e-23, 9.6729e-01, 3.2711e-02, 2.1892e-22]],\n",
            "       device='cuda:0', grad_fn=<SoftmaxBackward0>)\n",
            "tensor([[9.4616e-19, 9.9167e-21, 2.6849e-12, 1.0000e+00, 4.8950e-21]],\n",
            "       device='cuda:0', grad_fn=<SoftmaxBackward0>)\n",
            "tensor([[1.5018e-19, 1.9030e-20, 4.6385e-04, 9.9954e-01, 1.9271e-20]],\n",
            "       device='cuda:0', grad_fn=<SoftmaxBackward0>)\n",
            "tensor([[4.0195e-30, 5.3389e-29, 1.0000e+00, 3.1990e-08, 1.1269e-28]],\n",
            "       device='cuda:0', grad_fn=<SoftmaxBackward0>)\n",
            "tensor([[8.8877e-26, 2.0984e-24, 9.9275e-01, 7.2529e-03, 1.9421e-24]],\n",
            "       device='cuda:0', grad_fn=<SoftmaxBackward0>)\n",
            "tensor([[2.7641e-20, 5.9353e-21, 5.4909e-11, 1.0000e+00, 1.3418e-21]],\n",
            "       device='cuda:0', grad_fn=<SoftmaxBackward0>)\n",
            "tensor([[8.2245e-23, 3.6081e-21, 1.4008e-03, 9.9860e-01, 9.8707e-22]],\n",
            "       device='cuda:0', grad_fn=<SoftmaxBackward0>)\n",
            "tensor([[4.5024e-34, 1.2552e-30, 1.0000e+00, 4.9019e-08, 1.0275e-29]],\n",
            "       device='cuda:0', grad_fn=<SoftmaxBackward0>)\n",
            "tensor([[1.4534e-29, 3.8506e-26, 9.9956e-01, 4.3684e-04, 5.4221e-26]],\n",
            "       device='cuda:0', grad_fn=<SoftmaxBackward0>)\n",
            "tensor([[9.4421e-22, 1.5415e-21, 6.8717e-11, 1.0000e+00, 3.1115e-21]],\n",
            "       device='cuda:0', grad_fn=<SoftmaxBackward0>)\n",
            "tensor([[8.3222e-23, 1.0866e-21, 6.8273e-06, 9.9999e-01, 7.5272e-21]],\n",
            "       device='cuda:0', grad_fn=<SoftmaxBackward0>)\n",
            "tensor([[9.0289e-31, 9.0354e-29, 9.9998e-01, 1.5757e-05, 1.3774e-26]],\n",
            "       device='cuda:0', grad_fn=<SoftmaxBackward0>)\n",
            "tensor([[5.5772e-25, 1.0855e-23, 4.9355e-01, 5.0645e-01, 8.3657e-22]],\n",
            "       device='cuda:0', grad_fn=<SoftmaxBackward0>)\n",
            "tensor([[2.7293e-26, 6.4471e-25, 9.6120e-01, 3.8795e-02, 3.3038e-22]],\n",
            "       device='cuda:0', grad_fn=<SoftmaxBackward0>)\n",
            "tensor([[5.2803e-25, 2.7793e-24, 5.3492e-01, 4.6508e-01, 1.7449e-21]],\n",
            "       device='cuda:0', grad_fn=<SoftmaxBackward0>)\n",
            "tensor([[8.3495e-20, 3.8492e-21, 2.9962e-16, 1.0000e+00, 3.8671e-18]],\n",
            "       device='cuda:0', grad_fn=<SoftmaxBackward0>)\n",
            "tensor([[5.4529e-22, 3.3076e-21, 2.1697e-13, 1.0000e+00, 3.0101e-18]],\n",
            "       device='cuda:0', grad_fn=<SoftmaxBackward0>)\n",
            "tensor([[1.1111e-25, 6.0806e-24, 2.9328e-06, 1.0000e+00, 1.0786e-20]],\n",
            "       device='cuda:0', grad_fn=<SoftmaxBackward0>)\n",
            "tensor([[1.2302e-25, 4.9042e-25, 2.3596e-04, 9.9976e-01, 1.2664e-21]],\n",
            "       device='cuda:0', grad_fn=<SoftmaxBackward0>)\n",
            "tensor([[2.0310e-25, 6.8649e-26, 2.5759e-04, 9.9974e-01, 5.5577e-22]],\n",
            "       device='cuda:0', grad_fn=<SoftmaxBackward0>)\n",
            "tensor([[2.1843e-25, 5.1272e-27, 1.8311e-02, 9.8169e-01, 1.7175e-22]],\n",
            "       device='cuda:0', grad_fn=<SoftmaxBackward0>)\n",
            "tensor([[1.0794e-25, 2.3867e-28, 6.8262e-01, 3.1738e-01, 1.7105e-23]],\n",
            "       device='cuda:0', grad_fn=<SoftmaxBackward0>)\n",
            "tensor([[8.8906e-24, 1.0918e-27, 4.1829e-06, 1.0000e+00, 1.2356e-23]],\n",
            "       device='cuda:0', grad_fn=<SoftmaxBackward0>)\n",
            "tensor([[6.4876e-25, 1.1257e-28, 7.4178e-04, 9.9926e-01, 1.9697e-23]],\n",
            "       device='cuda:0', grad_fn=<SoftmaxBackward0>)\n",
            "tensor([[4.0739e-29, 1.3965e-33, 9.9996e-01, 4.3518e-05, 4.2939e-28]],\n",
            "       device='cuda:0', grad_fn=<SoftmaxBackward0>)\n",
            "tensor([[3.3873e-22, 9.5742e-28, 3.5104e-03, 9.9649e-01, 1.5919e-23]],\n",
            "       device='cuda:0', grad_fn=<SoftmaxBackward0>)\n",
            "tensor([[2.8947e-24, 3.6095e-29, 9.8834e-01, 1.1661e-02, 4.0714e-24]],\n",
            "       device='cuda:0', grad_fn=<SoftmaxBackward0>)\n",
            "tensor([[2.8422e-22, 8.9208e-28, 9.8795e-01, 1.2054e-02, 1.5056e-24]],\n",
            "       device='cuda:0', grad_fn=<SoftmaxBackward0>)\n",
            "tensor([[2.2699e-16, 6.8140e-23, 1.4516e-12, 1.0000e+00, 3.5086e-20]],\n",
            "       device='cuda:0', grad_fn=<SoftmaxBackward0>)\n",
            "tensor([[7.7251e-19, 3.9569e-23, 2.8336e-09, 1.0000e+00, 7.3361e-20]],\n",
            "       device='cuda:0', grad_fn=<SoftmaxBackward0>)\n",
            "tensor([[2.1992e-23, 8.1389e-27, 7.4617e-01, 2.5383e-01, 9.6158e-23]],\n",
            "       device='cuda:0', grad_fn=<SoftmaxBackward0>)\n",
            "tensor([[2.8029e-21, 7.2804e-25, 8.6026e-06, 9.9999e-01, 1.8512e-21]],\n",
            "       device='cuda:0', grad_fn=<SoftmaxBackward0>)\n",
            "tensor([[1.1885e-21, 1.9615e-25, 3.1681e-03, 9.9683e-01, 5.1159e-21]],\n",
            "       device='cuda:0', grad_fn=<SoftmaxBackward0>)\n",
            "tensor([[2.0101e-24, 3.7805e-28, 9.4854e-01, 5.1460e-02, 1.3899e-23]],\n",
            "       device='cuda:0', grad_fn=<SoftmaxBackward0>)\n",
            "tensor([[5.0146e-21, 9.1761e-25, 7.9622e-08, 1.0000e+00, 2.7514e-21]],\n",
            "       device='cuda:0', grad_fn=<SoftmaxBackward0>)\n",
            "tensor([[2.1505e-21, 1.8551e-24, 5.2480e-04, 9.9948e-01, 4.4222e-21]],\n",
            "       device='cuda:0', grad_fn=<SoftmaxBackward0>)\n",
            "tensor([[9.3402e-23, 2.4351e-25, 2.6713e-02, 9.7329e-01, 9.8611e-22]],\n",
            "       device='cuda:0', grad_fn=<SoftmaxBackward0>)\n",
            "tensor([[3.5465e-23, 4.9828e-25, 1.2761e-04, 9.9987e-01, 1.0487e-21]],\n",
            "       device='cuda:0', grad_fn=<SoftmaxBackward0>)\n",
            "tensor([[5.5372e-24, 3.9363e-25, 4.9111e-05, 9.9995e-01, 5.0808e-22]],\n",
            "       device='cuda:0', grad_fn=<SoftmaxBackward0>)\n",
            "tensor([[1.6501e-24, 5.1313e-25, 7.3911e-06, 9.9999e-01, 3.4014e-22]],\n",
            "       device='cuda:0', grad_fn=<SoftmaxBackward0>)\n",
            "tensor([[2.8047e-24, 1.4151e-24, 2.2478e-05, 9.9998e-01, 5.2644e-22]],\n",
            "       device='cuda:0', grad_fn=<SoftmaxBackward0>)\n",
            "tensor([[8.4972e-24, 2.5457e-24, 9.5032e-05, 9.9990e-01, 7.8058e-22]],\n",
            "       device='cuda:0', grad_fn=<SoftmaxBackward0>)\n",
            "tensor([[3.6647e-23, 6.7977e-24, 9.0437e-04, 9.9910e-01, 1.2062e-21]],\n",
            "       device='cuda:0', grad_fn=<SoftmaxBackward0>)\n",
            "tensor([[3.0771e-23, 3.1033e-24, 5.8708e-04, 9.9941e-01, 2.2001e-21]],\n",
            "       device='cuda:0', grad_fn=<SoftmaxBackward0>)\n",
            "tensor([[5.5296e-23, 1.7758e-24, 3.3807e-04, 9.9966e-01, 2.6319e-21]],\n",
            "       device='cuda:0', grad_fn=<SoftmaxBackward0>)\n",
            "tensor([[1.8264e-22, 2.4283e-24, 1.1180e-04, 9.9989e-01, 6.3278e-21]],\n",
            "       device='cuda:0', grad_fn=<SoftmaxBackward0>)\n",
            "tensor([[4.6719e-22, 3.6937e-24, 1.6510e-05, 9.9998e-01, 1.3450e-20]],\n",
            "       device='cuda:0', grad_fn=<SoftmaxBackward0>)\n",
            "tensor([[1.6985e-21, 9.8333e-24, 2.0277e-05, 9.9998e-01, 2.3090e-20]],\n",
            "       device='cuda:0', grad_fn=<SoftmaxBackward0>)\n",
            "tensor([[1.9350e-21, 1.4478e-23, 5.4985e-06, 9.9999e-01, 3.5421e-20]],\n",
            "       device='cuda:0', grad_fn=<SoftmaxBackward0>)\n",
            "tensor([[9.8274e-22, 1.2653e-23, 5.3574e-07, 1.0000e+00, 1.3801e-19]],\n",
            "       device='cuda:0', grad_fn=<SoftmaxBackward0>)\n",
            "tensor([[2.3029e-21, 2.1582e-23, 5.8017e-07, 1.0000e+00, 4.0585e-19]],\n",
            "       device='cuda:0', grad_fn=<SoftmaxBackward0>)\n",
            "tensor([[5.9124e-20, 1.2545e-22, 1.4521e-05, 9.9999e-01, 1.1092e-18]],\n",
            "       device='cuda:0', grad_fn=<SoftmaxBackward0>)\n",
            "tensor([[1.1507e-18, 1.0564e-21, 1.3775e-03, 9.9862e-01, 8.3332e-18]],\n",
            "       device='cuda:0', grad_fn=<SoftmaxBackward0>)\n",
            "tensor([[8.0209e-18, 3.1613e-21, 1.0382e-01, 8.9618e-01, 2.7971e-17]],\n",
            "       device='cuda:0', grad_fn=<SoftmaxBackward0>)\n",
            "tensor([[1.2053e-18, 3.1968e-22, 8.9642e-01, 1.0358e-01, 5.7108e-18]],\n",
            "       device='cuda:0', grad_fn=<SoftmaxBackward0>)\n",
            "tensor([[3.9576e-16, 4.5001e-21, 9.6634e-04, 9.9903e-01, 1.4532e-17]],\n",
            "       device='cuda:0', grad_fn=<SoftmaxBackward0>)\n",
            "tensor([[1.0750e-16, 2.2554e-21, 2.1782e-01, 7.8218e-01, 4.6240e-17]],\n",
            "       device='cuda:0', grad_fn=<SoftmaxBackward0>)\n",
            "tensor([[5.9283e-21, 7.1499e-26, 9.9967e-01, 3.2996e-04, 4.2098e-21]],\n",
            "       device='cuda:0', grad_fn=<SoftmaxBackward0>)\n",
            "tensor([[4.5492e-16, 1.1711e-21, 1.8106e-05, 9.9998e-01, 3.2574e-18]],\n",
            "       device='cuda:0', grad_fn=<SoftmaxBackward0>)\n",
            "tensor([[6.1843e-19, 4.5853e-23, 3.7303e-06, 1.0000e+00, 6.3600e-19]],\n",
            "       device='cuda:0', grad_fn=<SoftmaxBackward0>)\n",
            "tensor([[3.2015e-20, 9.4490e-24, 6.9313e-04, 9.9931e-01, 1.2742e-19]],\n",
            "       device='cuda:0', grad_fn=<SoftmaxBackward0>)\n",
            "tensor([[9.4685e-21, 8.5676e-24, 3.3825e-05, 9.9997e-01, 6.6009e-20]],\n",
            "       device='cuda:0', grad_fn=<SoftmaxBackward0>)\n",
            "tensor([[9.1777e-20, 1.7116e-23, 5.9894e-03, 9.9401e-01, 6.9873e-20]],\n",
            "       device='cuda:0', grad_fn=<SoftmaxBackward0>)\n",
            "tensor([[2.4554e-19, 8.2741e-23, 2.8447e-01, 7.1553e-01, 8.5047e-20]],\n",
            "       device='cuda:0', grad_fn=<SoftmaxBackward0>)\n",
            "tensor([[5.9266e-20, 1.2836e-23, 6.6503e-01, 3.3497e-01, 2.9931e-20]],\n",
            "       device='cuda:0', grad_fn=<SoftmaxBackward0>)\n",
            "tensor([[2.8279e-19, 3.2271e-23, 9.9593e-07, 1.0000e+00, 2.8141e-20]],\n",
            "       device='cuda:0', grad_fn=<SoftmaxBackward0>)\n",
            "tensor([[6.0921e-21, 2.0565e-24, 6.3499e-06, 9.9999e-01, 3.3688e-20]],\n",
            "       device='cuda:0', grad_fn=<SoftmaxBackward0>)\n",
            "tensor([[2.7284e-21, 1.8987e-24, 2.7827e-01, 7.2173e-01, 2.9721e-20]],\n",
            "       device='cuda:0', grad_fn=<SoftmaxBackward0>)\n",
            "tensor([[1.0085e-20, 1.1292e-23, 3.5793e-02, 9.6421e-01, 5.4295e-20]],\n",
            "       device='cuda:0', grad_fn=<SoftmaxBackward0>)\n",
            "tensor([[1.1746e-20, 1.2424e-23, 1.9010e-01, 8.0990e-01, 5.3764e-20]],\n",
            "       device='cuda:0', grad_fn=<SoftmaxBackward0>)\n",
            "tensor([[1.5183e-19, 1.1408e-22, 1.4746e-02, 9.8525e-01, 5.6168e-19]],\n",
            "       device='cuda:0', grad_fn=<SoftmaxBackward0>)\n",
            "tensor([[2.4376e-20, 5.8086e-23, 5.1258e-05, 9.9995e-01, 2.6979e-19]],\n",
            "       device='cuda:0', grad_fn=<SoftmaxBackward0>)\n",
            "tensor([[1.1798e-20, 1.0742e-22, 5.0248e-08, 1.0000e+00, 1.0379e-18]],\n",
            "       device='cuda:0', grad_fn=<SoftmaxBackward0>)\n",
            "tensor([[5.4001e-21, 8.7439e-23, 1.1482e-09, 1.0000e+00, 1.5558e-18]],\n",
            "       device='cuda:0', grad_fn=<SoftmaxBackward0>)\n",
            "tensor([[6.3517e-21, 1.6251e-22, 5.8056e-10, 1.0000e+00, 2.9522e-18]],\n",
            "       device='cuda:0', grad_fn=<SoftmaxBackward0>)\n",
            "tensor([[1.2892e-20, 1.6220e-22, 1.6244e-09, 1.0000e+00, 1.6301e-18]],\n",
            "       device='cuda:0', grad_fn=<SoftmaxBackward0>)\n",
            "tensor([[5.6213e-20, 9.8722e-23, 1.4436e-08, 1.0000e+00, 1.0253e-18]],\n",
            "       device='cuda:0', grad_fn=<SoftmaxBackward0>)\n",
            "tensor([[2.1301e-18, 3.3055e-22, 2.4775e-07, 1.0000e+00, 4.7406e-18]],\n",
            "       device='cuda:0', grad_fn=<SoftmaxBackward0>)\n",
            "tensor([[7.8178e-18, 4.8992e-22, 5.2766e-07, 1.0000e+00, 9.1924e-18]],\n",
            "       device='cuda:0', grad_fn=<SoftmaxBackward0>)\n",
            "tensor([[1.8611e-18, 3.1328e-22, 3.6535e-08, 1.0000e+00, 7.0895e-18]],\n",
            "       device='cuda:0', grad_fn=<SoftmaxBackward0>)\n",
            "tensor([[2.7004e-18, 2.0230e-22, 1.2313e-08, 1.0000e+00, 6.3986e-18]],\n",
            "       device='cuda:0', grad_fn=<SoftmaxBackward0>)\n",
            "tensor([[2.0897e-18, 1.2790e-22, 6.1810e-09, 1.0000e+00, 4.1511e-18]],\n",
            "       device='cuda:0', grad_fn=<SoftmaxBackward0>)\n",
            "tensor([[3.7732e-18, 2.0245e-22, 2.2947e-09, 1.0000e+00, 6.0535e-18]],\n",
            "       device='cuda:0', grad_fn=<SoftmaxBackward0>)\n",
            "tensor([[4.7553e-18, 2.0969e-22, 1.1876e-09, 1.0000e+00, 6.9716e-18]],\n",
            "       device='cuda:0', grad_fn=<SoftmaxBackward0>)\n",
            "tensor([[1.4502e-18, 1.3240e-22, 6.9896e-10, 1.0000e+00, 7.8047e-18]],\n",
            "       device='cuda:0', grad_fn=<SoftmaxBackward0>)\n",
            "tensor([[1.9498e-19, 4.9608e-23, 4.8210e-10, 1.0000e+00, 3.8728e-18]],\n",
            "       device='cuda:0', grad_fn=<SoftmaxBackward0>)\n",
            "tensor([[7.6184e-19, 6.9072e-23, 1.7643e-08, 1.0000e+00, 1.7301e-18]],\n",
            "       device='cuda:0', grad_fn=<SoftmaxBackward0>)\n",
            "tensor([[8.4042e-18, 3.8659e-22, 2.2837e-06, 1.0000e+00, 5.8218e-18]],\n",
            "       device='cuda:0', grad_fn=<SoftmaxBackward0>)\n",
            "tensor([[2.5291e-17, 5.3797e-22, 3.4378e-04, 9.9966e-01, 8.6114e-18]],\n",
            "       device='cuda:0', grad_fn=<SoftmaxBackward0>)\n",
            "tensor([[1.0824e-17, 4.5550e-22, 9.5298e-04, 9.9905e-01, 1.0907e-17]],\n",
            "       device='cuda:0', grad_fn=<SoftmaxBackward0>)\n",
            "tensor([[1.2277e-17, 1.1390e-21, 9.3690e-03, 9.9063e-01, 1.9147e-17]],\n",
            "       device='cuda:0', grad_fn=<SoftmaxBackward0>)\n",
            "tensor([[6.3550e-18, 2.2100e-21, 1.0446e-03, 9.9896e-01, 1.3714e-17]],\n",
            "       device='cuda:0', grad_fn=<SoftmaxBackward0>)\n",
            "tensor([[9.3072e-19, 2.1025e-21, 2.8834e-05, 9.9997e-01, 9.1067e-18]],\n",
            "       device='cuda:0', grad_fn=<SoftmaxBackward0>)\n",
            "tensor([[5.1557e-19, 2.5428e-21, 6.5692e-06, 9.9999e-01, 6.7085e-18]],\n",
            "       device='cuda:0', grad_fn=<SoftmaxBackward0>)\n",
            "tensor([[8.9315e-19, 3.9031e-21, 1.6651e-05, 9.9998e-01, 8.9543e-18]],\n",
            "       device='cuda:0', grad_fn=<SoftmaxBackward0>)\n",
            "tensor([[4.0211e-18, 8.2989e-21, 1.0689e-04, 9.9989e-01, 1.5439e-17]],\n",
            "       device='cuda:0', grad_fn=<SoftmaxBackward0>)\n",
            "tensor([[8.5721e-17, 5.2208e-20, 1.8013e-03, 9.9820e-01, 7.0452e-17]],\n",
            "       device='cuda:0', grad_fn=<SoftmaxBackward0>)\n",
            "tensor([[9.3955e-17, 3.0701e-20, 3.0876e-03, 9.9691e-01, 4.1568e-17]],\n",
            "       device='cuda:0', grad_fn=<SoftmaxBackward0>)\n",
            "tensor([[1.0761e-16, 2.9146e-20, 5.8938e-03, 9.9411e-01, 3.0526e-17]],\n",
            "       device='cuda:0', grad_fn=<SoftmaxBackward0>)\n",
            "tensor([[5.4371e-16, 1.7486e-19, 1.1212e-01, 8.8788e-01, 7.5610e-17]],\n",
            "       device='cuda:0', grad_fn=<SoftmaxBackward0>)\n",
            "tensor([[4.2228e-16, 6.2047e-20, 2.6462e-02, 9.7354e-01, 3.8218e-17]],\n",
            "       device='cuda:0', grad_fn=<SoftmaxBackward0>)\n",
            "tensor([[9.7375e-16, 1.2685e-19, 3.9634e-03, 9.9604e-01, 6.2085e-17]],\n",
            "       device='cuda:0', grad_fn=<SoftmaxBackward0>)\n",
            "tensor([[6.0816e-16, 1.2582e-19, 1.3380e-04, 9.9987e-01, 1.4676e-16]],\n",
            "       device='cuda:0', grad_fn=<SoftmaxBackward0>)\n",
            "tensor([[7.2049e-16, 1.3642e-19, 1.2379e-05, 9.9999e-01, 1.8193e-16]],\n",
            "       device='cuda:0', grad_fn=<SoftmaxBackward0>)\n",
            "tensor([[1.5050e-16, 1.7933e-20, 2.5661e-07, 1.0000e+00, 6.4650e-17]],\n",
            "       device='cuda:0', grad_fn=<SoftmaxBackward0>)\n",
            "tensor([[7.5325e-17, 6.1728e-21, 2.5816e-07, 1.0000e+00, 2.0053e-17]],\n",
            "       device='cuda:0', grad_fn=<SoftmaxBackward0>)\n",
            "tensor([[1.0481e-16, 2.8045e-21, 8.0888e-07, 1.0000e+00, 1.0026e-17]],\n",
            "       device='cuda:0', grad_fn=<SoftmaxBackward0>)\n",
            "tensor([[5.1840e-17, 5.3304e-22, 3.4000e-06, 1.0000e+00, 2.7422e-18]],\n",
            "       device='cuda:0', grad_fn=<SoftmaxBackward0>)\n",
            "tensor([[4.2754e-17, 1.6325e-22, 4.0218e-06, 1.0000e+00, 2.7380e-18]],\n",
            "       device='cuda:0', grad_fn=<SoftmaxBackward0>)\n",
            "tensor([[5.7584e-16, 9.9210e-22, 2.4909e-05, 9.9998e-01, 1.2083e-17]],\n",
            "       device='cuda:0', grad_fn=<SoftmaxBackward0>)\n",
            "tensor([[1.2210e-15, 2.9550e-21, 1.5342e-05, 9.9998e-01, 3.3585e-17]],\n",
            "       device='cuda:0', grad_fn=<SoftmaxBackward0>)\n",
            "tensor([[3.9608e-15, 3.6654e-21, 1.5695e-04, 9.9984e-01, 5.5053e-17]],\n",
            "       device='cuda:0', grad_fn=<SoftmaxBackward0>)\n",
            "tensor([[1.7917e-14, 8.3127e-21, 8.2246e-04, 9.9918e-01, 1.7906e-16]],\n",
            "       device='cuda:0', grad_fn=<SoftmaxBackward0>)\n",
            "tensor([[4.3639e-14, 1.7469e-20, 1.1585e-03, 9.9884e-01, 4.6534e-16]],\n",
            "       device='cuda:0', grad_fn=<SoftmaxBackward0>)\n",
            "tensor([[2.3835e-14, 1.8149e-20, 2.2155e-03, 9.9778e-01, 8.7596e-16]],\n",
            "       device='cuda:0', grad_fn=<SoftmaxBackward0>)\n",
            "tensor([[6.4040e-14, 3.6787e-20, 4.9015e-02, 9.5099e-01, 2.5423e-15]],\n",
            "       device='cuda:0', grad_fn=<SoftmaxBackward0>)\n",
            "tensor([[8.2699e-14, 4.2773e-20, 1.6581e-01, 8.3419e-01, 2.3854e-15]],\n",
            "       device='cuda:0', grad_fn=<SoftmaxBackward0>)\n",
            "tensor([[8.0238e-14, 3.2464e-20, 7.4831e-01, 2.5169e-01, 1.3279e-15]],\n",
            "       device='cuda:0', grad_fn=<SoftmaxBackward0>)\n",
            "tensor([[1.3384e-11, 2.7370e-19, 2.6508e-04, 9.9973e-01, 9.2347e-16]],\n",
            "       device='cuda:0', grad_fn=<SoftmaxBackward0>)\n",
            "tensor([[2.4455e-14, 1.2272e-20, 8.1464e-06, 9.9999e-01, 5.9086e-16]],\n",
            "       device='cuda:0', grad_fn=<SoftmaxBackward0>)\n",
            "tensor([[6.2050e-15, 2.7268e-20, 1.9212e-01, 8.0788e-01, 7.2351e-16]],\n",
            "       device='cuda:0', grad_fn=<SoftmaxBackward0>)\n",
            "tensor([[1.7690e-15, 4.9748e-20, 6.8528e-04, 9.9931e-01, 4.0357e-16]],\n",
            "       device='cuda:0', grad_fn=<SoftmaxBackward0>)\n",
            "tensor([[2.6788e-16, 2.3811e-20, 2.7128e-04, 9.9973e-01, 1.6269e-16]],\n",
            "       device='cuda:0', grad_fn=<SoftmaxBackward0>)\n",
            "tensor([[6.3565e-17, 1.0474e-20, 2.0356e-05, 9.9998e-01, 1.1453e-16]],\n",
            "       device='cuda:0', grad_fn=<SoftmaxBackward0>)\n",
            "tensor([[2.9255e-17, 4.1878e-21, 3.8877e-05, 9.9996e-01, 4.8939e-17]],\n",
            "       device='cuda:0', grad_fn=<SoftmaxBackward0>)\n",
            "tensor([[1.3607e-16, 1.2153e-20, 5.1793e-05, 9.9995e-01, 1.1450e-16]],\n",
            "       device='cuda:0', grad_fn=<SoftmaxBackward0>)\n",
            "tensor([[6.5209e-17, 1.3351e-20, 2.7640e-05, 9.9997e-01, 6.3198e-17]],\n",
            "       device='cuda:0', grad_fn=<SoftmaxBackward0>)\n",
            "tensor([[1.4309e-17, 6.6957e-21, 3.9660e-06, 1.0000e+00, 3.1300e-17]],\n",
            "       device='cuda:0', grad_fn=<SoftmaxBackward0>)\n",
            "tensor([[9.5013e-18, 1.0939e-20, 3.7544e-06, 1.0000e+00, 4.0735e-17]],\n",
            "       device='cuda:0', grad_fn=<SoftmaxBackward0>)\n",
            "tensor([[6.9417e-18, 7.5355e-21, 8.0736e-07, 1.0000e+00, 6.4083e-17]],\n",
            "       device='cuda:0', grad_fn=<SoftmaxBackward0>)\n",
            "tensor([[1.0716e-17, 1.9290e-20, 5.2127e-07, 1.0000e+00, 1.5906e-16]],\n",
            "       device='cuda:0', grad_fn=<SoftmaxBackward0>)\n",
            "tensor([[5.3402e-18, 1.4561e-20, 6.4886e-08, 1.0000e+00, 2.4480e-16]],\n",
            "       device='cuda:0', grad_fn=<SoftmaxBackward0>)\n",
            "tensor([[1.5481e-17, 2.3693e-20, 5.3546e-08, 1.0000e+00, 6.2422e-16]],\n",
            "       device='cuda:0', grad_fn=<SoftmaxBackward0>)\n",
            "tensor([[3.8592e-17, 3.8741e-20, 2.2049e-08, 1.0000e+00, 1.6493e-15]],\n",
            "       device='cuda:0', grad_fn=<SoftmaxBackward0>)\n",
            "tensor([[4.3028e-16, 1.5694e-19, 2.2710e-07, 1.0000e+00, 4.6834e-15]],\n",
            "       device='cuda:0', grad_fn=<SoftmaxBackward0>)\n",
            "tensor([[1.0793e-15, 2.6923e-19, 7.1443e-07, 1.0000e+00, 7.4357e-15]],\n",
            "       device='cuda:0', grad_fn=<SoftmaxBackward0>)\n",
            "tensor([[5.9350e-16, 5.4837e-20, 2.8179e-07, 1.0000e+00, 5.4161e-15]],\n",
            "       device='cuda:0', grad_fn=<SoftmaxBackward0>)\n",
            "tensor([[2.8512e-15, 6.4343e-19, 4.9285e-07, 1.0000e+00, 4.4145e-14]],\n",
            "       device='cuda:0', grad_fn=<SoftmaxBackward0>)\n",
            "tensor([[7.5187e-16, 3.1216e-19, 9.1586e-08, 1.0000e+00, 6.1367e-14]],\n",
            "       device='cuda:0', grad_fn=<SoftmaxBackward0>)\n",
            "tensor([[6.4010e-16, 1.9790e-19, 3.1942e-07, 1.0000e+00, 3.4825e-14]],\n",
            "       device='cuda:0', grad_fn=<SoftmaxBackward0>)\n",
            "tensor([[2.4761e-16, 8.5525e-20, 1.3132e-06, 1.0000e+00, 6.5822e-14]],\n",
            "       device='cuda:0', grad_fn=<SoftmaxBackward0>)\n",
            "tensor([[1.1200e-18, 1.5078e-21, 1.0414e-08, 1.0000e+00, 2.6818e-15]],\n",
            "       device='cuda:0', grad_fn=<SoftmaxBackward0>)\n",
            "tensor([[2.5785e-18, 5.4935e-20, 5.1289e-10, 1.0000e+00, 1.0059e-13]],\n",
            "       device='cuda:0', grad_fn=<SoftmaxBackward0>)\n",
            "tensor([[5.5001e-20, 6.8026e-22, 4.4595e-13, 1.0000e+00, 4.0320e-15]],\n",
            "       device='cuda:0', grad_fn=<SoftmaxBackward0>)\n",
            "tensor([[6.9699e-21, 1.3109e-21, 4.5778e-15, 1.0000e+00, 1.7370e-15]],\n",
            "       device='cuda:0', grad_fn=<SoftmaxBackward0>)\n",
            "tensor([[1.9121e-20, 6.7547e-21, 2.3808e-13, 1.0000e+00, 6.0875e-15]],\n",
            "       device='cuda:0', grad_fn=<SoftmaxBackward0>)\n",
            "tensor([[1.1169e-20, 2.5786e-21, 1.3971e-12, 1.0000e+00, 3.5225e-16]],\n",
            "       device='cuda:0', grad_fn=<SoftmaxBackward0>)\n",
            "tensor([[3.4029e-23, 1.0620e-21, 3.6429e-13, 1.0000e+00, 8.4473e-17]],\n",
            "       device='cuda:0', grad_fn=<SoftmaxBackward0>)\n",
            "tensor([[7.9163e-25, 2.5333e-22, 1.7074e-15, 1.0000e+00, 1.7618e-18]],\n",
            "       device='cuda:0', grad_fn=<SoftmaxBackward0>)\n",
            "tensor([[5.1972e-23, 5.5232e-21, 1.3076e-14, 1.0000e+00, 2.3407e-17]],\n",
            "       device='cuda:0', grad_fn=<SoftmaxBackward0>)\n",
            "tensor([[8.8574e-21, 8.5422e-20, 1.9461e-14, 1.0000e+00, 2.4902e-16]],\n",
            "       device='cuda:0', grad_fn=<SoftmaxBackward0>)\n",
            "tensor([[1.2890e-19, 3.8823e-18, 4.2816e-17, 1.0000e+00, 1.1366e-17]],\n",
            "       device='cuda:0', grad_fn=<SoftmaxBackward0>)\n",
            "tensor([[2.5062e-18, 1.2349e-13, 2.9606e-19, 1.0000e+00, 2.4312e-18]],\n",
            "       device='cuda:0', grad_fn=<SoftmaxBackward0>)\n",
            "tensor([[6.6255e-17, 4.6060e-08, 1.2630e-19, 1.0000e+00, 1.0919e-17]],\n",
            "       device='cuda:0', grad_fn=<SoftmaxBackward0>)\n",
            "tensor([[1.4471e-15, 5.7017e-03, 9.4379e-19, 9.9430e-01, 1.1845e-15]],\n",
            "       device='cuda:0', grad_fn=<SoftmaxBackward0>)\n",
            "tensor([[1.1680e-14, 9.7627e-01, 4.0862e-19, 2.3733e-02, 2.5987e-15]],\n",
            "       device='cuda:0', grad_fn=<SoftmaxBackward0>)\n",
            "tensor([[9.7895e-13, 9.9999e-01, 7.3391e-21, 1.3458e-05, 3.9762e-18]],\n",
            "       device='cuda:0', grad_fn=<SoftmaxBackward0>)\n",
            "tensor([[1.1758e-05, 2.5480e-01, 2.1045e-15, 7.4519e-01, 2.1301e-14]],\n",
            "       device='cuda:0', grad_fn=<SoftmaxBackward0>)\n",
            "tensor([[9.5531e-12, 1.0000e+00, 3.4522e-23, 1.3331e-08, 1.4342e-17]],\n",
            "       device='cuda:0', grad_fn=<SoftmaxBackward0>)\n",
            "tensor([[1.2936e-13, 1.0000e+00, 3.1063e-25, 5.6516e-15, 3.1691e-21]],\n",
            "       device='cuda:0', grad_fn=<SoftmaxBackward0>)\n",
            "tensor([[2.5169e-07, 1.0000e+00, 7.1186e-20, 8.2313e-12, 3.7803e-18]],\n",
            "       device='cuda:0', grad_fn=<SoftmaxBackward0>)\n",
            "tensor([[1.1834e-03, 9.9882e-01, 7.3247e-17, 5.1491e-11, 2.8771e-17]],\n",
            "       device='cuda:0', grad_fn=<SoftmaxBackward0>)\n",
            "tensor([[1.3320e-01, 8.6680e-01, 5.7748e-14, 1.4669e-11, 1.0572e-17]],\n",
            "       device='cuda:0', grad_fn=<SoftmaxBackward0>)\n",
            "tensor([[1.8584e-02, 9.8142e-01, 6.2553e-15, 5.8307e-14, 5.7547e-20]],\n",
            "       device='cuda:0', grad_fn=<SoftmaxBackward0>)\n",
            "tensor([[2.1466e-05, 9.9998e-01, 8.9171e-18, 2.5476e-16, 1.2301e-22]],\n",
            "       device='cuda:0', grad_fn=<SoftmaxBackward0>)\n",
            "tensor([[2.8017e-07, 1.0000e+00, 5.9371e-19, 5.4239e-17, 1.8783e-26]],\n",
            "       device='cuda:0', grad_fn=<SoftmaxBackward0>)\n",
            "tensor([[4.1987e-05, 9.9996e-01, 1.6805e-16, 2.4548e-13, 1.9927e-24]],\n",
            "       device='cuda:0', grad_fn=<SoftmaxBackward0>)\n",
            "tensor([[3.8441e-01, 6.1559e-01, 1.5797e-14, 6.4461e-10, 1.4103e-21]],\n",
            "       device='cuda:0', grad_fn=<SoftmaxBackward0>)\n",
            "tensor([[9.8228e-01, 1.7718e-02, 1.0672e-13, 1.4377e-09, 2.4967e-21]],\n",
            "       device='cuda:0', grad_fn=<SoftmaxBackward0>)\n",
            "tensor([[1.0000e+00, 7.9587e-09, 7.9585e-14, 1.3881e-08, 3.8118e-22]],\n",
            "       device='cuda:0', grad_fn=<SoftmaxBackward0>)\n",
            "tensor([[9.9999e-01, 4.7089e-09, 1.5813e-14, 1.0720e-05, 9.9104e-22]],\n",
            "       device='cuda:0', grad_fn=<SoftmaxBackward0>)\n",
            "tensor([[9.6011e-01, 4.8874e-08, 3.5505e-14, 3.9892e-02, 1.3266e-20]],\n",
            "       device='cuda:0', grad_fn=<SoftmaxBackward0>)\n",
            "tensor([[9.7404e-05, 3.4024e-06, 1.3029e-14, 9.9990e-01, 6.0333e-19]],\n",
            "       device='cuda:0', grad_fn=<SoftmaxBackward0>)\n",
            "tensor([[8.1366e-09, 4.3103e-05, 4.3282e-15, 9.9996e-01, 4.5104e-18]],\n",
            "       device='cuda:0', grad_fn=<SoftmaxBackward0>)\n",
            "tensor([[1.2580e-11, 9.7534e-01, 7.4179e-15, 2.4661e-02, 1.0681e-15]],\n",
            "       device='cuda:0', grad_fn=<SoftmaxBackward0>)\n",
            "tensor([[2.4113e-10, 4.6719e-04, 1.7527e-14, 9.9953e-01, 3.1989e-17]],\n",
            "       device='cuda:0', grad_fn=<SoftmaxBackward0>)\n",
            "tensor([[3.9502e-10, 9.5716e-04, 1.7792e-17, 9.9904e-01, 3.7094e-15]],\n",
            "       device='cuda:0', grad_fn=<SoftmaxBackward0>)\n",
            "tensor([[6.6030e-16, 1.0000e+00, 3.3232e-21, 3.3685e-09, 2.4606e-18]],\n",
            "       device='cuda:0', grad_fn=<SoftmaxBackward0>)\n",
            "tensor([[4.1940e-15, 1.0000e+00, 5.3327e-19, 4.6438e-08, 3.6605e-18]],\n",
            "       device='cuda:0', grad_fn=<SoftmaxBackward0>)\n",
            "tensor([[2.7576e-09, 1.4518e-08, 2.5592e-16, 1.0000e+00, 3.0365e-19]],\n",
            "       device='cuda:0', grad_fn=<SoftmaxBackward0>)\n",
            "tensor([[4.7577e-10, 9.4380e-07, 1.1251e-17, 1.0000e+00, 2.2839e-19]],\n",
            "       device='cuda:0', grad_fn=<SoftmaxBackward0>)\n",
            "tensor([[1.7407e-11, 9.9895e-01, 1.6323e-17, 1.0468e-03, 1.3216e-17]],\n",
            "       device='cuda:0', grad_fn=<SoftmaxBackward0>)\n",
            "tensor([[6.9507e-09, 3.5652e-01, 1.3733e-14, 6.4348e-01, 5.5044e-17]],\n",
            "       device='cuda:0', grad_fn=<SoftmaxBackward0>)\n",
            "tensor([[9.6578e-08, 1.1220e-02, 2.2420e-16, 9.8878e-01, 1.8166e-16]],\n",
            "       device='cuda:0', grad_fn=<SoftmaxBackward0>)\n",
            "tensor([[4.3455e-12, 1.0000e+00, 1.7180e-19, 1.1741e-07, 3.0898e-19]],\n",
            "       device='cuda:0', grad_fn=<SoftmaxBackward0>)\n",
            "tensor([[8.8989e-07, 7.2357e-03, 5.9562e-14, 9.9276e-01, 1.1625e-17]],\n",
            "       device='cuda:0', grad_fn=<SoftmaxBackward0>)\n",
            "tensor([[6.1464e-06, 5.5547e-02, 4.4443e-15, 9.4445e-01, 6.1148e-16]],\n",
            "       device='cuda:0', grad_fn=<SoftmaxBackward0>)\n",
            "tensor([[1.7824e-10, 1.0000e+00, 3.0738e-18, 1.1257e-07, 6.1520e-19]],\n",
            "       device='cuda:0', grad_fn=<SoftmaxBackward0>)\n",
            "tensor([[3.7398e-05, 4.0289e-04, 2.5559e-12, 9.9956e-01, 7.1556e-17]],\n",
            "       device='cuda:0', grad_fn=<SoftmaxBackward0>)\n",
            "tensor([[7.5604e-06, 1.7454e-05, 3.1675e-14, 9.9998e-01, 1.7218e-16]],\n",
            "       device='cuda:0', grad_fn=<SoftmaxBackward0>)\n",
            "tensor([[1.4332e-06, 9.9815e-01, 8.2791e-14, 1.8525e-03, 1.9132e-15]],\n",
            "       device='cuda:0', grad_fn=<SoftmaxBackward0>)\n",
            "tensor([[3.1805e-05, 8.6567e-08, 2.2337e-12, 9.9997e-01, 7.7506e-17]],\n",
            "       device='cuda:0', grad_fn=<SoftmaxBackward0>)\n",
            "tensor([[2.7151e-05, 3.8772e-06, 2.7689e-13, 9.9997e-01, 1.8825e-14]],\n",
            "       device='cuda:0', grad_fn=<SoftmaxBackward0>)\n",
            "tensor([[1.4698e-05, 9.9922e-01, 1.6770e-13, 7.6493e-04, 4.3161e-14]],\n",
            "       device='cuda:0', grad_fn=<SoftmaxBackward0>)\n",
            "tensor([[1.2550e-03, 5.3165e-04, 1.2327e-11, 9.9821e-01, 8.5123e-15]],\n",
            "       device='cuda:0', grad_fn=<SoftmaxBackward0>)\n",
            "tensor([[1.8590e-08, 8.3900e-05, 2.2421e-16, 9.9992e-01, 1.3087e-16]],\n",
            "       device='cuda:0', grad_fn=<SoftmaxBackward0>)\n",
            "tensor([[9.5247e-10, 9.9990e-01, 1.2964e-17, 1.0153e-04, 6.0460e-17]],\n",
            "       device='cuda:0', grad_fn=<SoftmaxBackward0>)\n",
            "tensor([[6.4729e-10, 6.9265e-07, 4.7973e-16, 1.0000e+00, 4.0041e-18]],\n",
            "       device='cuda:0', grad_fn=<SoftmaxBackward0>)\n",
            "tensor([[5.1272e-16, 1.6055e-09, 2.7848e-22, 1.0000e+00, 4.6445e-20]],\n",
            "       device='cuda:0', grad_fn=<SoftmaxBackward0>)\n",
            "tensor([[6.1802e-14, 5.4106e-01, 3.5592e-20, 4.5894e-01, 2.6739e-16]],\n",
            "       device='cuda:0', grad_fn=<SoftmaxBackward0>)\n",
            "tensor([[1.4665e-16, 3.1251e-10, 5.6363e-21, 1.0000e+00, 7.2553e-21]],\n",
            "       device='cuda:0', grad_fn=<SoftmaxBackward0>)\n",
            "tensor([[9.2204e-18, 8.8219e-10, 2.0266e-22, 1.0000e+00, 3.6807e-19]],\n",
            "       device='cuda:0', grad_fn=<SoftmaxBackward0>)\n",
            "tensor([[4.4859e-16, 1.8930e-03, 4.4323e-21, 9.9811e-01, 1.5733e-16]],\n",
            "       device='cuda:0', grad_fn=<SoftmaxBackward0>)\n",
            "tensor([[2.4862e-16, 8.5747e-06, 2.1181e-21, 9.9999e-01, 1.2269e-17]],\n",
            "       device='cuda:0', grad_fn=<SoftmaxBackward0>)\n",
            "tensor([[3.1082e-16, 1.0015e-05, 1.1123e-20, 9.9999e-01, 3.8765e-17]],\n",
            "       device='cuda:0', grad_fn=<SoftmaxBackward0>)\n",
            "tensor([[8.0911e-17, 1.0246e-06, 1.8123e-20, 1.0000e+00, 1.6740e-17]],\n",
            "       device='cuda:0', grad_fn=<SoftmaxBackward0>)\n",
            "tensor([[1.2461e-17, 7.2049e-08, 3.9515e-20, 1.0000e+00, 8.0797e-18]],\n",
            "       device='cuda:0', grad_fn=<SoftmaxBackward0>)\n",
            "tensor([[2.0089e-18, 6.6903e-09, 3.4396e-20, 1.0000e+00, 2.3769e-18]],\n",
            "       device='cuda:0', grad_fn=<SoftmaxBackward0>)\n",
            "tensor([[5.1768e-18, 2.8550e-09, 2.8375e-19, 1.0000e+00, 3.6131e-18]],\n",
            "       device='cuda:0', grad_fn=<SoftmaxBackward0>)\n",
            "tensor([[1.0282e-17, 9.2882e-10, 6.8486e-19, 1.0000e+00, 3.6343e-18]],\n",
            "       device='cuda:0', grad_fn=<SoftmaxBackward0>)\n",
            "tensor([[1.6310e-18, 5.3161e-11, 1.7303e-19, 1.0000e+00, 5.7365e-19]],\n",
            "       device='cuda:0', grad_fn=<SoftmaxBackward0>)\n",
            "tensor([[1.0040e-18, 9.0849e-12, 1.7879e-19, 1.0000e+00, 3.0132e-19]],\n",
            "       device='cuda:0', grad_fn=<SoftmaxBackward0>)\n",
            "tensor([[1.0937e-18, 8.8196e-12, 5.4413e-19, 1.0000e+00, 8.7707e-19]],\n",
            "       device='cuda:0', grad_fn=<SoftmaxBackward0>)\n",
            "tensor([[1.2593e-18, 1.4050e-11, 1.8453e-18, 1.0000e+00, 2.5663e-18]],\n",
            "       device='cuda:0', grad_fn=<SoftmaxBackward0>)\n",
            "tensor([[1.3085e-17, 2.5332e-11, 1.3910e-16, 1.0000e+00, 3.7508e-17]],\n",
            "       device='cuda:0', grad_fn=<SoftmaxBackward0>)\n",
            "tensor([[1.7134e-16, 1.1672e-10, 1.4656e-14, 1.0000e+00, 4.7092e-16]],\n",
            "       device='cuda:0', grad_fn=<SoftmaxBackward0>)\n",
            "tensor([[1.7283e-14, 1.0992e-09, 4.5394e-12, 1.0000e+00, 1.7981e-14]],\n",
            "       device='cuda:0', grad_fn=<SoftmaxBackward0>)\n",
            "tensor([[3.0817e-12, 3.5763e-09, 1.3954e-09, 1.0000e+00, 2.2803e-13]],\n",
            "       device='cuda:0', grad_fn=<SoftmaxBackward0>)\n",
            "tensor([[8.3271e-09, 2.7383e-08, 2.6886e-05, 9.9997e-01, 6.9160e-11]],\n",
            "       device='cuda:0', grad_fn=<SoftmaxBackward0>)\n",
            "tensor([[3.1374e-05, 1.1194e-06, 6.5507e-01, 3.4490e-01, 4.3781e-08]],\n",
            "       device='cuda:0', grad_fn=<SoftmaxBackward0>)\n",
            "tensor([[9.5296e-02, 1.0699e-04, 6.2396e-01, 2.8063e-01, 2.1258e-07]],\n",
            "       device='cuda:0', grad_fn=<SoftmaxBackward0>)\n",
            "tensor([[9.6467e-01, 7.9931e-03, 7.5158e-16, 2.7341e-02, 1.1554e-08]],\n",
            "       device='cuda:0', grad_fn=<SoftmaxBackward0>)\n",
            "tensor([[2.4761e-04, 5.3655e-03, 9.2663e-13, 9.9439e-01, 1.9203e-06]],\n",
            "       device='cuda:0', grad_fn=<SoftmaxBackward0>)\n",
            "tensor([[1.6819e-11, 3.8743e-11, 4.2376e-13, 1.0000e+00, 3.8045e-12]],\n",
            "       device='cuda:0', grad_fn=<SoftmaxBackward0>)\n",
            "tensor([[3.9968e-13, 1.0350e-14, 5.1088e-12, 1.0000e+00, 3.6884e-15]],\n",
            "       device='cuda:0', grad_fn=<SoftmaxBackward0>)\n",
            "tensor([[1.1705e-12, 3.1972e-17, 2.7922e-12, 1.0000e+00, 1.3690e-17]],\n",
            "       device='cuda:0', grad_fn=<SoftmaxBackward0>)\n",
            "tensor([[3.2220e-11, 3.4312e-21, 5.0382e-11, 1.0000e+00, 3.8918e-19]],\n",
            "       device='cuda:0', grad_fn=<SoftmaxBackward0>)\n",
            "tensor([[3.5696e-07, 3.9154e-20, 2.5302e-04, 9.9975e-01, 2.6046e-16]],\n",
            "       device='cuda:0', grad_fn=<SoftmaxBackward0>)\n",
            "tensor([[7.6486e-06, 8.0610e-22, 1.7861e-01, 8.2138e-01, 5.9071e-16]],\n",
            "       device='cuda:0', grad_fn=<SoftmaxBackward0>)\n",
            "tensor([[2.9360e-07, 3.4037e-26, 9.9961e-01, 3.8771e-04, 1.4593e-18]],\n",
            "       device='cuda:0', grad_fn=<SoftmaxBackward0>)\n",
            "tensor([[8.4694e-08, 3.8758e-24, 1.0000e+00, 3.1037e-08, 8.7078e-19]],\n",
            "       device='cuda:0', grad_fn=<SoftmaxBackward0>)\n",
            "tensor([[9.9745e-01, 4.7689e-15, 2.7610e-07, 2.5470e-03, 2.9397e-13]],\n",
            "       device='cuda:0', grad_fn=<SoftmaxBackward0>)\n",
            "tensor([[1.7013e-02, 2.1464e-16, 9.8297e-01, 1.2923e-05, 4.9216e-15]],\n",
            "       device='cuda:0', grad_fn=<SoftmaxBackward0>)\n",
            "tensor([[1.8018e-01, 4.0728e-15, 8.1976e-01, 5.7178e-05, 4.0308e-16]],\n",
            "       device='cuda:0', grad_fn=<SoftmaxBackward0>)\n",
            "tensor([[1.0000e+00, 4.2786e-15, 1.8567e-13, 3.3119e-10, 8.0241e-18]],\n",
            "       device='cuda:0', grad_fn=<SoftmaxBackward0>)\n",
            "tensor([[1.1614e-01, 2.6053e-11, 8.8386e-01, 1.1997e-09, 3.0058e-16]],\n",
            "       device='cuda:0', grad_fn=<SoftmaxBackward0>)\n",
            "tensor([[2.6804e-01, 1.3289e-08, 7.3196e-01, 1.0693e-08, 1.0760e-13]],\n",
            "       device='cuda:0', grad_fn=<SoftmaxBackward0>)\n",
            "tensor([[9.1801e-01, 2.6234e-06, 8.1989e-02, 2.7425e-08, 4.2194e-11]],\n",
            "       device='cuda:0', grad_fn=<SoftmaxBackward0>)\n",
            "tensor([[9.7214e-07, 2.9976e-09, 1.0000e+00, 1.3401e-10, 2.1925e-14]],\n",
            "       device='cuda:0', grad_fn=<SoftmaxBackward0>)\n",
            "tensor([[1.9929e-10, 4.2142e-09, 1.0000e+00, 2.2940e-10, 1.0440e-16]],\n",
            "       device='cuda:0', grad_fn=<SoftmaxBackward0>)\n",
            "tensor([[3.1427e-12, 2.3995e-12, 1.0000e+00, 2.4462e-13, 2.7167e-19]],\n",
            "       device='cuda:0', grad_fn=<SoftmaxBackward0>)\n",
            "tensor([[1.0456e-12, 1.9436e-15, 1.0000e+00, 4.7995e-14, 1.4465e-20]],\n",
            "       device='cuda:0', grad_fn=<SoftmaxBackward0>)\n",
            "tensor([[1.4603e-14, 7.5926e-16, 1.0000e+00, 3.0416e-16, 1.1233e-20]],\n",
            "       device='cuda:0', grad_fn=<SoftmaxBackward0>)\n",
            "tensor([[2.0737e-11, 2.8512e-14, 1.0000e+00, 3.5009e-15, 7.0850e-18]],\n",
            "       device='cuda:0', grad_fn=<SoftmaxBackward0>)\n",
            "tensor([[2.9081e-11, 4.7615e-16, 1.0000e+00, 4.0285e-15, 1.4067e-18]],\n",
            "       device='cuda:0', grad_fn=<SoftmaxBackward0>)\n",
            "tensor([[1.0215e-12, 1.1524e-17, 1.0000e+00, 9.5703e-16, 8.8120e-19]],\n",
            "       device='cuda:0', grad_fn=<SoftmaxBackward0>)\n",
            "tensor([[5.7950e-16, 1.9041e-18, 1.0000e+00, 5.6889e-18, 8.4307e-20]],\n",
            "       device='cuda:0', grad_fn=<SoftmaxBackward0>)\n",
            "tensor([[1.6267e-16, 3.9457e-18, 1.0000e+00, 2.2706e-17, 6.9610e-19]],\n",
            "       device='cuda:0', grad_fn=<SoftmaxBackward0>)\n",
            "tensor([[4.4932e-20, 6.3135e-19, 1.0000e+00, 2.6829e-22, 3.1045e-19]],\n",
            "       device='cuda:0', grad_fn=<SoftmaxBackward0>)\n",
            "tensor([[2.5846e-22, 9.9295e-21, 1.0000e+00, 1.2770e-25, 1.4834e-18]],\n",
            "       device='cuda:0', grad_fn=<SoftmaxBackward0>)\n",
            "tensor([[1.4402e-25, 3.8532e-20, 1.0000e+00, 7.6285e-27, 6.8134e-18]],\n",
            "       device='cuda:0', grad_fn=<SoftmaxBackward0>)\n",
            "tensor([[1.6294e-26, 2.9051e-20, 1.0000e+00, 7.4911e-29, 3.0740e-18]],\n",
            "       device='cuda:0', grad_fn=<SoftmaxBackward0>)\n",
            "tensor([[3.0964e-26, 1.0778e-21, 1.0000e+00, 2.6462e-30, 2.3791e-18]],\n",
            "       device='cuda:0', grad_fn=<SoftmaxBackward0>)\n",
            "tensor([[4.8186e-27, 1.0916e-24, 1.0000e+00, 3.5925e-33, 6.1983e-19]],\n",
            "       device='cuda:0', grad_fn=<SoftmaxBackward0>)\n",
            "tensor([[8.5552e-29, 2.2292e-28, 1.0000e+00, 2.7469e-38, 3.7230e-21]],\n",
            "       device='cuda:0', grad_fn=<SoftmaxBackward0>)\n",
            "tensor([[1.6664e-31, 5.1724e-34, 1.0000e+00, 2.3738e-42, 2.8852e-24]],\n",
            "       device='cuda:0', grad_fn=<SoftmaxBackward0>)\n",
            "tensor([[3.9494e-33, 1.6728e-35, 1.0000e+00, 3.7835e-44, 1.1562e-25]],\n",
            "       device='cuda:0', grad_fn=<SoftmaxBackward0>)\n",
            "tensor([[2.0833e-32, 2.5736e-36, 1.0000e+00, 1.4013e-45, 1.8710e-26]],\n",
            "       device='cuda:0', grad_fn=<SoftmaxBackward0>)\n",
            "tensor([[1.9378e-30, 1.4517e-37, 1.0000e+00, 0.0000e+00, 6.9447e-29]],\n",
            "       device='cuda:0', grad_fn=<SoftmaxBackward0>)\n",
            "tensor([[1.0768e-26, 6.3449e-37, 1.0000e+00, 0.0000e+00, 1.5256e-28]],\n",
            "       device='cuda:0', grad_fn=<SoftmaxBackward0>)\n",
            "tensor([[1.2170e-18, 2.5280e-33, 1.0000e+00, 7.4269e-43, 1.7664e-26]],\n",
            "       device='cuda:0', grad_fn=<SoftmaxBackward0>)\n",
            "tensor([[1.6090e-05, 1.0238e-21, 9.9998e-01, 5.8668e-27, 8.6022e-16]],\n",
            "       device='cuda:0', grad_fn=<SoftmaxBackward0>)\n",
            "tensor([[1.0000e+00, 1.1399e-18, 1.6427e-09, 4.6725e-15, 1.8256e-13]],\n",
            "       device='cuda:0', grad_fn=<SoftmaxBackward0>)\n",
            "tensor([[1.0000e+00, 4.5395e-18, 1.0363e-15, 1.5004e-09, 6.0775e-14]],\n",
            "       device='cuda:0', grad_fn=<SoftmaxBackward0>)\n",
            "tensor([[9.9902e-01, 9.4843e-17, 5.3749e-18, 9.7800e-04, 8.0760e-14]],\n",
            "       device='cuda:0', grad_fn=<SoftmaxBackward0>)\n",
            "tensor([[3.9733e-03, 5.9475e-17, 1.2476e-17, 9.9603e-01, 7.5198e-16]],\n",
            "       device='cuda:0', grad_fn=<SoftmaxBackward0>)\n",
            "tensor([[1.1371e-03, 4.5686e-17, 1.2125e-10, 9.9886e-01, 6.8126e-15]],\n",
            "       device='cuda:0', grad_fn=<SoftmaxBackward0>)\n",
            "tensor([[1.3181e-04, 2.1366e-16, 7.5580e-09, 9.9987e-01, 4.7752e-13]],\n",
            "       device='cuda:0', grad_fn=<SoftmaxBackward0>)\n",
            "tensor([[1.1638e-03, 2.5143e-13, 3.1790e-07, 9.9884e-01, 1.0015e-10]],\n",
            "       device='cuda:0', grad_fn=<SoftmaxBackward0>)\n",
            "tensor([[3.8163e-03, 9.8925e-12, 9.9601e-01, 1.7655e-04, 3.7125e-11]],\n",
            "       device='cuda:0', grad_fn=<SoftmaxBackward0>)\n",
            "tensor([[4.6359e-03, 5.0956e-09, 9.9535e-01, 1.5808e-05, 3.3440e-10]],\n",
            "       device='cuda:0', grad_fn=<SoftmaxBackward0>)\n",
            "tensor([[5.4316e-01, 4.5634e-01, 1.6317e-07, 4.8926e-04, 5.0561e-06]],\n",
            "       device='cuda:0', grad_fn=<SoftmaxBackward0>)\n",
            "tensor([[7.7857e-06, 9.9999e-01, 2.2680e-13, 3.3302e-15, 4.4946e-11]],\n",
            "       device='cuda:0', grad_fn=<SoftmaxBackward0>)\n",
            "tensor([[1.9410e-07, 1.0000e+00, 1.4368e-09, 1.7644e-12, 4.1041e-09]],\n",
            "       device='cuda:0', grad_fn=<SoftmaxBackward0>)\n",
            "tensor([[6.7424e-10, 1.0000e+00, 3.2140e-08, 3.8215e-10, 1.2860e-07]],\n",
            "       device='cuda:0', grad_fn=<SoftmaxBackward0>)\n",
            "tensor([[2.4857e-09, 9.9994e-01, 5.8104e-05, 5.7130e-12, 1.9794e-07]],\n",
            "       device='cuda:0', grad_fn=<SoftmaxBackward0>)\n",
            "tensor([[2.6272e-07, 9.9932e-01, 6.8209e-04, 3.9877e-12, 2.1131e-10]],\n",
            "       device='cuda:0', grad_fn=<SoftmaxBackward0>)\n",
            "tensor([[1.8593e-02, 7.9446e-03, 9.7346e-01, 1.4065e-12, 1.7378e-11]],\n",
            "       device='cuda:0', grad_fn=<SoftmaxBackward0>)\n",
            "tensor([[2.6783e-05, 9.9997e-01, 8.1527e-08, 1.4206e-15, 4.9031e-12]],\n",
            "       device='cuda:0', grad_fn=<SoftmaxBackward0>)\n",
            "tensor([[1.0045e-05, 9.9999e-01, 8.8005e-11, 6.4507e-23, 2.9062e-16]],\n",
            "       device='cuda:0', grad_fn=<SoftmaxBackward0>)\n",
            "tensor([[2.4089e-09, 1.0000e+00, 5.3420e-12, 1.1512e-26, 5.3051e-19]],\n",
            "       device='cuda:0', grad_fn=<SoftmaxBackward0>)\n",
            "tensor([[7.5155e-14, 1.0000e+00, 8.8810e-19, 6.3540e-27, 2.6745e-23]],\n",
            "       device='cuda:0', grad_fn=<SoftmaxBackward0>)\n",
            "tensor([[2.0700e-18, 1.0000e+00, 2.5745e-23, 1.0000e-27, 1.0939e-27]],\n",
            "       device='cuda:0', grad_fn=<SoftmaxBackward0>)\n",
            "tensor([[1.7926e-20, 1.0000e+00, 8.3937e-25, 6.2668e-29, 2.5923e-31]],\n",
            "       device='cuda:0', grad_fn=<SoftmaxBackward0>)\n",
            "tensor([[1.9000e-19, 1.0000e+00, 1.7390e-24, 2.2515e-28, 1.0133e-31]],\n",
            "       device='cuda:0', grad_fn=<SoftmaxBackward0>)\n",
            "tensor([[2.0313e-15, 1.0000e+00, 8.0144e-24, 5.1123e-25, 1.5650e-30]],\n",
            "       device='cuda:0', grad_fn=<SoftmaxBackward0>)\n",
            "tensor([[1.3807e-13, 1.0000e+00, 2.0804e-25, 3.3347e-25, 1.5699e-31]],\n",
            "       device='cuda:0', grad_fn=<SoftmaxBackward0>)\n",
            "tensor([[7.0773e-13, 1.0000e+00, 1.9575e-25, 1.2779e-25, 2.5880e-31]],\n",
            "       device='cuda:0', grad_fn=<SoftmaxBackward0>)\n",
            "tensor([[3.6276e-04, 9.9964e-01, 5.5929e-20, 9.4587e-18, 3.2284e-24]],\n",
            "       device='cuda:0', grad_fn=<SoftmaxBackward0>)\n",
            "tensor([[1.0000e+00, 2.7284e-10, 7.9668e-20, 3.0859e-17, 1.7178e-24]],\n",
            "       device='cuda:0', grad_fn=<SoftmaxBackward0>)\n",
            "tensor([[1.0000e+00, 1.8403e-16, 1.1077e-20, 3.1390e-17, 4.4027e-28]],\n",
            "       device='cuda:0', grad_fn=<SoftmaxBackward0>)\n",
            "tensor([[1.0000e+00, 3.9586e-13, 5.2036e-18, 3.8774e-14, 8.1895e-25]],\n",
            "       device='cuda:0', grad_fn=<SoftmaxBackward0>)\n",
            "tensor([[1.0000e+00, 4.2466e-08, 1.4842e-15, 2.9470e-07, 2.6877e-21]],\n",
            "       device='cuda:0', grad_fn=<SoftmaxBackward0>)\n",
            "tensor([[1.4186e-06, 9.4141e-06, 1.3661e-17, 9.9999e-01, 1.6973e-20]],\n",
            "       device='cuda:0', grad_fn=<SoftmaxBackward0>)\n",
            "tensor([[1.4114e-12, 8.6363e-06, 5.2033e-22, 9.9999e-01, 4.3664e-19]],\n",
            "       device='cuda:0', grad_fn=<SoftmaxBackward0>)\n",
            "tensor([[2.0227e-14, 9.8288e-01, 5.6684e-22, 1.7123e-02, 2.3892e-15]],\n",
            "       device='cuda:0', grad_fn=<SoftmaxBackward0>)\n",
            "tensor([[2.7317e-12, 8.0632e-08, 5.1823e-21, 1.0000e+00, 2.0104e-16]],\n",
            "       device='cuda:0', grad_fn=<SoftmaxBackward0>)\n",
            "tensor([[2.5094e-11, 8.5286e-11, 8.0111e-23, 1.0000e+00, 9.6604e-15]],\n",
            "       device='cuda:0', grad_fn=<SoftmaxBackward0>)\n",
            "tensor([[4.1116e-11, 5.1560e-02, 8.4317e-23, 9.4844e-01, 3.5441e-11]],\n",
            "       device='cuda:0', grad_fn=<SoftmaxBackward0>)\n",
            "tensor([[4.2583e-12, 9.6459e-01, 4.0417e-24, 3.5414e-02, 5.6016e-13]],\n",
            "       device='cuda:0', grad_fn=<SoftmaxBackward0>)\n",
            "tensor([[3.0754e-11, 6.3627e-05, 1.8998e-22, 9.9994e-01, 6.7476e-15]],\n",
            "       device='cuda:0', grad_fn=<SoftmaxBackward0>)\n",
            "tensor([[1.6654e-09, 3.6994e-06, 4.1781e-23, 1.0000e+00, 2.9013e-14]],\n",
            "       device='cuda:0', grad_fn=<SoftmaxBackward0>)\n",
            "tensor([[2.5185e-10, 9.9884e-01, 1.6584e-21, 1.1625e-03, 2.5667e-14]],\n",
            "       device='cuda:0', grad_fn=<SoftmaxBackward0>)\n",
            "tensor([[1.3503e-08, 5.7543e-04, 3.9954e-18, 9.9942e-01, 5.0545e-15]],\n",
            "       device='cuda:0', grad_fn=<SoftmaxBackward0>)\n",
            "tensor([[1.1088e-07, 7.9000e-01, 1.2604e-17, 2.1000e-01, 4.1649e-13]],\n",
            "       device='cuda:0', grad_fn=<SoftmaxBackward0>)\n",
            "tensor([[2.9874e-08, 9.4680e-01, 1.0206e-16, 5.3198e-02, 2.9243e-14]],\n",
            "       device='cuda:0', grad_fn=<SoftmaxBackward0>)\n",
            "tensor([[1.2593e-05, 1.0165e-12, 7.3208e-18, 9.9999e-01, 1.6509e-15]],\n",
            "       device='cuda:0', grad_fn=<SoftmaxBackward0>)\n",
            "tensor([[1.1904e-03, 2.8242e-05, 1.2553e-14, 9.9878e-01, 3.9064e-10]],\n",
            "       device='cuda:0', grad_fn=<SoftmaxBackward0>)\n",
            "tensor([[1.5748e-08, 1.0000e+00, 1.2647e-16, 4.9490e-07, 9.0705e-13]],\n",
            "       device='cuda:0', grad_fn=<SoftmaxBackward0>)\n",
            "tensor([[2.8562e-05, 9.9916e-01, 7.7581e-13, 8.1320e-04, 1.5578e-11]],\n",
            "       device='cuda:0', grad_fn=<SoftmaxBackward0>)\n",
            "tensor([[9.5405e-03, 1.7595e-09, 1.3569e-13, 9.9046e-01, 7.3981e-13]],\n",
            "       device='cuda:0', grad_fn=<SoftmaxBackward0>)\n",
            "tensor([[2.6645e-02, 1.4005e-07, 7.3241e-11, 9.7335e-01, 7.4355e-10]],\n",
            "       device='cuda:0', grad_fn=<SoftmaxBackward0>)\n",
            "tensor([[5.1756e-01, 3.5672e-01, 3.2574e-07, 1.2572e-01, 1.2043e-07]],\n",
            "       device='cuda:0', grad_fn=<SoftmaxBackward0>)\n",
            "tensor([[4.9713e-01, 5.0263e-01, 4.1225e-08, 2.3548e-04, 1.2251e-08]],\n",
            "       device='cuda:0', grad_fn=<SoftmaxBackward0>)\n",
            "tensor([[9.9999e-01, 1.1416e-06, 7.8261e-10, 9.3338e-06, 4.6101e-11]],\n",
            "       device='cuda:0', grad_fn=<SoftmaxBackward0>)\n",
            "tensor([[9.9986e-01, 2.8794e-08, 1.7206e-06, 1.3606e-04, 7.4113e-10]],\n",
            "       device='cuda:0', grad_fn=<SoftmaxBackward0>)\n",
            "tensor([[9.9921e-01, 7.8996e-04, 9.7293e-08, 1.0865e-08, 3.5848e-10]],\n",
            "       device='cuda:0', grad_fn=<SoftmaxBackward0>)\n",
            "tensor([[9.9995e-01, 5.0712e-05, 5.6793e-08, 6.3315e-09, 2.0934e-10]],\n",
            "       device='cuda:0', grad_fn=<SoftmaxBackward0>)\n",
            "tensor([[9.9097e-01, 9.0253e-03, 6.4501e-08, 1.0046e-09, 2.4222e-09]],\n",
            "       device='cuda:0', grad_fn=<SoftmaxBackward0>)\n",
            "tensor([[9.5133e-01, 4.8671e-02, 1.6118e-07, 1.2094e-09, 5.2817e-08]],\n",
            "       device='cuda:0', grad_fn=<SoftmaxBackward0>)\n",
            "tensor([[7.0957e-01, 2.9043e-01, 7.9511e-07, 4.2062e-09, 2.2933e-07]],\n",
            "       device='cuda:0', grad_fn=<SoftmaxBackward0>)\n",
            "tensor([[3.4848e-01, 6.5152e-01, 4.0193e-07, 4.8613e-09, 2.0451e-07]],\n",
            "       device='cuda:0', grad_fn=<SoftmaxBackward0>)\n",
            "tensor([[9.9757e-01, 2.4299e-03, 9.6921e-07, 3.6614e-06, 1.3625e-07]],\n",
            "       device='cuda:0', grad_fn=<SoftmaxBackward0>)\n",
            "tensor([[9.8994e-01, 1.0064e-02, 1.2402e-08, 4.3503e-07, 5.5343e-08]],\n",
            "       device='cuda:0', grad_fn=<SoftmaxBackward0>)\n",
            "tensor([[1.6278e-05, 9.9998e-01, 3.4234e-13, 2.4486e-12, 1.4277e-11]],\n",
            "       device='cuda:0', grad_fn=<SoftmaxBackward0>)\n",
            "tensor([[8.4391e-01, 1.5609e-01, 2.6070e-09, 3.5194e-07, 5.2736e-09]],\n",
            "       device='cuda:0', grad_fn=<SoftmaxBackward0>)\n",
            "tensor([[9.9141e-01, 8.5938e-03, 2.6342e-11, 1.6748e-07, 1.7182e-09]],\n",
            "       device='cuda:0', grad_fn=<SoftmaxBackward0>)\n",
            "tensor([[4.9983e-03, 9.9500e-01, 1.1221e-11, 1.1455e-08, 9.7724e-10]],\n",
            "       device='cuda:0', grad_fn=<SoftmaxBackward0>)\n",
            "tensor([[9.9890e-01, 8.4363e-04, 1.4510e-08, 2.5591e-04, 2.2794e-08]],\n",
            "       device='cuda:0', grad_fn=<SoftmaxBackward0>)\n",
            "tensor([[9.9740e-01, 2.5982e-03, 3.1350e-10, 4.0736e-06, 1.4367e-08]],\n",
            "       device='cuda:0', grad_fn=<SoftmaxBackward0>)\n",
            "tensor([[4.6928e-03, 9.9531e-01, 8.5788e-11, 1.7816e-06, 8.2348e-09]],\n",
            "       device='cuda:0', grad_fn=<SoftmaxBackward0>)\n",
            "tensor([[3.0092e-01, 2.0010e-05, 1.2116e-08, 6.9906e-01, 5.3415e-08]],\n",
            "       device='cuda:0', grad_fn=<SoftmaxBackward0>)\n",
            "tensor([[8.8536e-01, 8.6261e-04, 5.8900e-10, 1.1378e-01, 1.4717e-08]],\n",
            "       device='cuda:0', grad_fn=<SoftmaxBackward0>)\n",
            "tensor([[1.0896e-05, 9.9997e-01, 2.6048e-13, 2.2502e-05, 1.8604e-11]],\n",
            "       device='cuda:0', grad_fn=<SoftmaxBackward0>)\n",
            "tensor([[1.0594e-03, 4.8566e-03, 1.7052e-11, 9.9408e-01, 3.0647e-11]],\n",
            "       device='cuda:0', grad_fn=<SoftmaxBackward0>)\n",
            "tensor([[1.0394e-02, 3.2366e-01, 2.9063e-12, 6.6595e-01, 1.0460e-09]],\n",
            "       device='cuda:0', grad_fn=<SoftmaxBackward0>)\n",
            "tensor([[1.0807e-08, 9.9991e-01, 2.2498e-15, 9.3893e-05, 6.0551e-14]],\n",
            "       device='cuda:0', grad_fn=<SoftmaxBackward0>)\n",
            "tensor([[9.7330e-09, 2.8215e-07, 3.7223e-15, 1.0000e+00, 1.2205e-16]],\n",
            "       device='cuda:0', grad_fn=<SoftmaxBackward0>)\n",
            "tensor([[1.5609e-08, 4.6349e-06, 5.6902e-16, 1.0000e+00, 1.0683e-15]],\n",
            "       device='cuda:0', grad_fn=<SoftmaxBackward0>)\n",
            "tensor([[3.1089e-11, 9.0187e-01, 1.0477e-15, 9.8134e-02, 5.0456e-16]],\n",
            "       device='cuda:0', grad_fn=<SoftmaxBackward0>)\n",
            "tensor([[1.4099e-12, 1.7058e-08, 4.0354e-17, 1.0000e+00, 4.2903e-20]],\n",
            "       device='cuda:0', grad_fn=<SoftmaxBackward0>)\n",
            "tensor([[6.7869e-11, 2.0085e-07, 4.5280e-17, 1.0000e+00, 4.4288e-17]],\n",
            "       device='cuda:0', grad_fn=<SoftmaxBackward0>)\n",
            "tensor([[4.0268e-11, 7.1444e-01, 2.3980e-15, 2.8556e-01, 7.0030e-16]],\n",
            "       device='cuda:0', grad_fn=<SoftmaxBackward0>)\n"
          ]
        }
      ],
      "source": [
        "o, _ = env.reset()\n",
        "\n",
        "for x in range(500):\n",
        "    print(policy(torch.tensor(gs(o), device=device, dtype = torch.float32).unsqueeze(dim = 0).unsqueeze(dim = 0)))\n",
        "    o, r, d, i, __ = env.step(int(torch.argmax(policy(torch.tensor(gs(o), device=device, dtype=torch.float32).unsqueeze(dim = 0).unsqueeze(dim = 0)))))\n",
        "\n",
        "    if d or i:\n",
        "        o, _ = env.reset()"
      ]
    },
    {
      "cell_type": "code",
      "execution_count": null,
      "metadata": {
        "colab": {
          "background_save": true
        },
        "id": "Ksfoqg7f_PfA",
        "outputId": "2c96abc6-42a9-4750-8a83-966a45267dbd"
      },
      "outputs": [],
      "source": [
        "import gym\n",
        "from IPython import display\n",
        "from pyvirtualdisplay import Display\n",
        "from matplotlib import animation\n",
        "import matplotlib.pyplot as plt\n",
        "\n",
        "plt.rcParams['animation.embed_limit'] = 2**64\n",
        "\n",
        "d = Display()\n",
        "d.start()\n",
        "\n",
        "o, _ = env.reset()\n",
        "rewards_over_time = []\n",
        "img = []\n",
        "for x in range(1000):\n",
        "    o, r, d, i, __ = env.step(int(torch.argmax(policy(torch.tensor(gs(o), device=device, dtype = torch.float32).unsqueeze(dim = 0).unsqueeze(dim=0)))))\n",
        "    rewards_over_time.append(r)\n",
        "    display.clear_output(wait=True)\n",
        "    img.append(env.render())\n",
        "\n",
        "    if d or i:\n",
        "        o, _ = env.reset()\n",
        "\n",
        "dpi = 72\n",
        "interval = 50 # ms\n",
        "\n",
        "plt.figure(figsize=(img[0].shape[1]/dpi,img[0].shape[0]/dpi),dpi=dpi)\n",
        "patch = plt.imshow(img[0])\n",
        "plt.axis=('off')\n",
        "animate = lambda i: patch.set_data(img[i])\n",
        "ani = animation.FuncAnimation(plt.gcf(),animate,frames=len(img),interval=interval)\n",
        "display.display(display.HTML(ani.to_jshtml()))"
      ]
    },
    {
      "cell_type": "code",
      "execution_count": null,
      "metadata": {
        "colab": {
          "base_uri": "https://localhost:8080/"
        },
        "id": "j8n-lqEPOkeq",
        "outputId": "07b5bd76-30c2-4efa-8604-cf34b8b42e00"
      },
      "outputs": [
        {
          "output_type": "stream",
          "name": "stderr",
          "text": [
            "WARNING:matplotlib.animation:MovieWriter imagemagick unavailable; using Pillow instead.\n"
          ]
        }
      ],
      "source": [
        "# Save render of trained policy\n",
        "ani.save('CarRacingSAC3.gif', writer='imagemagick', fps=30)"
      ]
    },
    {
      "cell_type": "code",
      "execution_count": null,
      "metadata": {
        "colab": {
          "base_uri": "https://localhost:8080/",
          "height": 447
        },
        "id": "Xn-qiyTzDbYF",
        "outputId": "c6018c10-f6d0-4b78-a73d-820218fd8ee7"
      },
      "outputs": [
        {
          "output_type": "execute_result",
          "data": {
            "text/plain": [
              "[<matplotlib.lines.Line2D at 0x7a116554cf70>]"
            ]
          },
          "metadata": {},
          "execution_count": 21
        },
        {
          "output_type": "display_data",
          "data": {
            "text/plain": [
              "<Figure size 640x480 with 1 Axes>"
            ],
            "image/png": "[encoded data removed]"
          },
          "metadata": {}
        }
      ],
      "source": [
        "plt.plot(rewards_over_time)"
      ]
    },
    {
      "cell_type": "code",
      "execution_count": null,
      "metadata": {
        "colab": {
          "base_uri": "https://localhost:8080/"
        },
        "id": "GxX_awoW9_yR",
        "outputId": "32e31ab0-0bec-49e9-f62d-2d7de7b3d8f1"
      },
      "outputs": [
        {
          "name": "stderr",
          "output_type": "stream",
          "text": [
            "/usr/local/lib/python3.10/dist-packages/pexpect/popen_spawn.py:60: DeprecationWarning: setDaemon() is deprecated, set the daemon attribute instead\n",
            "  self._read_thread.setDaemon(True)\n"
          ]
        },
        {
          "name": "stdout",
          "output_type": "stream",
          "text": [
            "Mounted at /content/gdrive\n"
          ]
        }
      ],
      "source": [
        "# Save trained model weights\n",
        "from google.colab import drive\n",
        "drive.mount('/content/gdrive')\n",
        "\n",
        "PATH = \"/content/gdrive/My Drive/RL_SACVision/policy.pth\"\n",
        "torch.save(policy.state_dict(), PATH)\n",
        "PATH = \"/content/gdrive/My Drive/RL_SACVision/policy_opt.pth\"\n",
        "torch.save(policy_opt.state_dict(), PATH)\n",
        "PATH = \"/content/gdrive/My Drive/RL_SACVision/Q1.pth\"\n",
        "torch.save(Q1.state_dict(), PATH)\n",
        "PATH = \"/content/gdrive/My Drive/RL_SACVision/Q2.pth\"\n",
        "torch.save(Q2.state_dict(), PATH)\n",
        "PATH = \"/content/gdrive/My Drive/RL_SACVision/Q_opt.pth\"\n",
        "torch.save(Q_opt.state_dict(), PATH)\n",
        "PATH = \"/content/gdrive/My Drive/RL_SACVision/Q1targ.pth\"\n",
        "torch.save(Q1targ.state_dict(), PATH)\n",
        "PATH = \"/content/gdrive/My Drive/RL_SACVision/Q2targ.pth\"\n",
        "torch.save(Q2targ.state_dict(), PATH)\n",
        "PATH = \"/content/gdrive/My Drive/RL_SACVision/log_alpha_opt.pth\"\n",
        "torch.save(log_alpha_opt.state_dict(), PATH)\n",
        "PATH = \"/content/gdrive/MyDrive/RL_SACVision/log_alpha.txt\"\n",
        "with open(PATH, \"w\") as f:\n",
        "    f.write(str(log_alpha.item()))"
      ]
    },
    {
      "cell_type": "markdown",
      "metadata": {
        "id": "LDANMBbewcIz"
      },
      "source": [
        "‍"
      ]
    }
  ],
  "metadata": {
    "accelerator": "GPU",
    "colab": {
      "provenance": []
    },
    "kernelspec": {
      "display_name": "Python 3",
      "name": "python3"
    },
    "language_info": {
      "name": "python"
    }
  },
  "nbformat": 4,
  "nbformat_minor": 0
}